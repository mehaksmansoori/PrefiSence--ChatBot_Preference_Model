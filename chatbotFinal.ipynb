{
 "cells": [
  {
   "cell_type": "code",
   "execution_count": 1,
   "id": "aab557b0-8c3f-4d48-b8f3-3cd5c5a8747e",
   "metadata": {},
   "outputs": [
    {
     "name": "stdout",
     "output_type": "stream",
     "text": [
      "Requirement already satisfied: scikit-learn in c:\\users\\kirti\\appdata\\local\\programs\\python\\python312\\lib\\site-packages (1.5.2)\n",
      "Requirement already satisfied: numpy>=1.19.5 in c:\\users\\kirti\\appdata\\local\\programs\\python\\python312\\lib\\site-packages (from scikit-learn) (1.26.4)\n",
      "Requirement already satisfied: scipy>=1.6.0 in c:\\users\\kirti\\appdata\\local\\programs\\python\\python312\\lib\\site-packages (from scikit-learn) (1.13.1)\n",
      "Requirement already satisfied: joblib>=1.2.0 in c:\\users\\kirti\\appdata\\local\\programs\\python\\python312\\lib\\site-packages (from scikit-learn) (1.4.2)\n",
      "Requirement already satisfied: threadpoolctl>=3.1.0 in c:\\users\\kirti\\appdata\\local\\programs\\python\\python312\\lib\\site-packages (from scikit-learn) (3.5.0)\n"
     ]
    },
    {
     "name": "stderr",
     "output_type": "stream",
     "text": [
      "\n",
      "[notice] A new release of pip is available: 24.0 -> 24.3.1\n",
      "[notice] To update, run: python.exe -m pip install --upgrade pip\n"
     ]
    },
    {
     "name": "stdout",
     "output_type": "stream",
     "text": [
      "Requirement already satisfied: keras in c:\\users\\kirti\\appdata\\local\\programs\\python\\python312\\lib\\site-packages (3.6.0)\n",
      "Requirement already satisfied: tensorflow in c:\\users\\kirti\\appdata\\local\\programs\\python\\python312\\lib\\site-packages (2.18.0)\n",
      "Requirement already satisfied: absl-py in c:\\users\\kirti\\appdata\\local\\programs\\python\\python312\\lib\\site-packages (from keras) (2.1.0)\n",
      "Requirement already satisfied: numpy in c:\\users\\kirti\\appdata\\local\\programs\\python\\python312\\lib\\site-packages (from keras) (1.26.4)\n",
      "Requirement already satisfied: rich in c:\\users\\kirti\\appdata\\local\\programs\\python\\python312\\lib\\site-packages (from keras) (13.9.3)\n",
      "Requirement already satisfied: namex in c:\\users\\kirti\\appdata\\local\\programs\\python\\python312\\lib\\site-packages (from keras) (0.0.8)\n",
      "Requirement already satisfied: h5py in c:\\users\\kirti\\appdata\\local\\programs\\python\\python312\\lib\\site-packages (from keras) (3.12.1)\n",
      "Requirement already satisfied: optree in c:\\users\\kirti\\appdata\\local\\programs\\python\\python312\\lib\\site-packages (from keras) (0.13.0)\n",
      "Requirement already satisfied: ml-dtypes in c:\\users\\kirti\\appdata\\local\\programs\\python\\python312\\lib\\site-packages (from keras) (0.4.1)\n",
      "Requirement already satisfied: packaging in c:\\users\\kirti\\appdata\\roaming\\python\\python312\\site-packages (from keras) (24.1)\n",
      "Requirement already satisfied: tensorflow-intel==2.18.0 in c:\\users\\kirti\\appdata\\local\\programs\\python\\python312\\lib\\site-packages (from tensorflow) (2.18.0)\n",
      "Requirement already satisfied: astunparse>=1.6.0 in c:\\users\\kirti\\appdata\\local\\programs\\python\\python312\\lib\\site-packages (from tensorflow-intel==2.18.0->tensorflow) (1.6.3)\n",
      "Requirement already satisfied: flatbuffers>=24.3.25 in c:\\users\\kirti\\appdata\\local\\programs\\python\\python312\\lib\\site-packages (from tensorflow-intel==2.18.0->tensorflow) (24.3.25)\n",
      "Requirement already satisfied: gast!=0.5.0,!=0.5.1,!=0.5.2,>=0.2.1 in c:\\users\\kirti\\appdata\\local\\programs\\python\\python312\\lib\\site-packages (from tensorflow-intel==2.18.0->tensorflow) (0.6.0)\n",
      "Requirement already satisfied: google-pasta>=0.1.1 in c:\\users\\kirti\\appdata\\local\\programs\\python\\python312\\lib\\site-packages (from tensorflow-intel==2.18.0->tensorflow) (0.2.0)\n",
      "Requirement already satisfied: libclang>=13.0.0 in c:\\users\\kirti\\appdata\\local\\programs\\python\\python312\\lib\\site-packages (from tensorflow-intel==2.18.0->tensorflow) (18.1.1)\n",
      "Requirement already satisfied: opt-einsum>=2.3.2 in c:\\users\\kirti\\appdata\\local\\programs\\python\\python312\\lib\\site-packages (from tensorflow-intel==2.18.0->tensorflow) (3.4.0)\n",
      "Requirement already satisfied: protobuf!=4.21.0,!=4.21.1,!=4.21.2,!=4.21.3,!=4.21.4,!=4.21.5,<6.0.0dev,>=3.20.3 in c:\\users\\kirti\\appdata\\local\\programs\\python\\python312\\lib\\site-packages (from tensorflow-intel==2.18.0->tensorflow) (5.28.3)\n",
      "Requirement already satisfied: requests<3,>=2.21.0 in c:\\users\\kirti\\appdata\\local\\programs\\python\\python312\\lib\\site-packages (from tensorflow-intel==2.18.0->tensorflow) (2.32.3)\n",
      "Requirement already satisfied: setuptools in c:\\users\\kirti\\appdata\\local\\programs\\python\\python312\\lib\\site-packages (from tensorflow-intel==2.18.0->tensorflow) (75.3.0)\n",
      "Requirement already satisfied: six>=1.12.0 in c:\\users\\kirti\\appdata\\roaming\\python\\python312\\site-packages (from tensorflow-intel==2.18.0->tensorflow) (1.16.0)\n",
      "Requirement already satisfied: termcolor>=1.1.0 in c:\\users\\kirti\\appdata\\local\\programs\\python\\python312\\lib\\site-packages (from tensorflow-intel==2.18.0->tensorflow) (2.5.0)\n",
      "Requirement already satisfied: typing-extensions>=3.6.6 in c:\\users\\kirti\\appdata\\local\\programs\\python\\python312\\lib\\site-packages (from tensorflow-intel==2.18.0->tensorflow) (4.12.2)\n",
      "Requirement already satisfied: wrapt>=1.11.0 in c:\\users\\kirti\\appdata\\local\\programs\\python\\python312\\lib\\site-packages (from tensorflow-intel==2.18.0->tensorflow) (1.16.0)\n",
      "Requirement already satisfied: grpcio<2.0,>=1.24.3 in c:\\users\\kirti\\appdata\\local\\programs\\python\\python312\\lib\\site-packages (from tensorflow-intel==2.18.0->tensorflow) (1.67.1)\n",
      "Requirement already satisfied: tensorboard<2.19,>=2.18 in c:\\users\\kirti\\appdata\\local\\programs\\python\\python312\\lib\\site-packages (from tensorflow-intel==2.18.0->tensorflow) (2.18.0)\n",
      "Requirement already satisfied: markdown-it-py>=2.2.0 in c:\\users\\kirti\\appdata\\local\\programs\\python\\python312\\lib\\site-packages (from rich->keras) (3.0.0)\n",
      "Requirement already satisfied: pygments<3.0.0,>=2.13.0 in c:\\users\\kirti\\appdata\\roaming\\python\\python312\\site-packages (from rich->keras) (2.18.0)\n",
      "Requirement already satisfied: wheel<1.0,>=0.23.0 in c:\\users\\kirti\\appdata\\local\\programs\\python\\python312\\lib\\site-packages (from astunparse>=1.6.0->tensorflow-intel==2.18.0->tensorflow) (0.44.0)\n",
      "Requirement already satisfied: mdurl~=0.1 in c:\\users\\kirti\\appdata\\local\\programs\\python\\python312\\lib\\site-packages (from markdown-it-py>=2.2.0->rich->keras) (0.1.2)\n",
      "Requirement already satisfied: charset-normalizer<4,>=2 in c:\\users\\kirti\\appdata\\local\\programs\\python\\python312\\lib\\site-packages (from requests<3,>=2.21.0->tensorflow-intel==2.18.0->tensorflow) (3.4.0)\n",
      "Requirement already satisfied: idna<4,>=2.5 in c:\\users\\kirti\\appdata\\local\\programs\\python\\python312\\lib\\site-packages (from requests<3,>=2.21.0->tensorflow-intel==2.18.0->tensorflow) (3.10)\n",
      "Requirement already satisfied: urllib3<3,>=1.21.1 in c:\\users\\kirti\\appdata\\local\\programs\\python\\python312\\lib\\site-packages (from requests<3,>=2.21.0->tensorflow-intel==2.18.0->tensorflow) (2.2.3)\n",
      "Requirement already satisfied: certifi>=2017.4.17 in c:\\users\\kirti\\appdata\\local\\programs\\python\\python312\\lib\\site-packages (from requests<3,>=2.21.0->tensorflow-intel==2.18.0->tensorflow) (2024.8.30)\n",
      "Requirement already satisfied: markdown>=2.6.8 in c:\\users\\kirti\\appdata\\local\\programs\\python\\python312\\lib\\site-packages (from tensorboard<2.19,>=2.18->tensorflow-intel==2.18.0->tensorflow) (3.7)\n",
      "Requirement already satisfied: tensorboard-data-server<0.8.0,>=0.7.0 in c:\\users\\kirti\\appdata\\local\\programs\\python\\python312\\lib\\site-packages (from tensorboard<2.19,>=2.18->tensorflow-intel==2.18.0->tensorflow) (0.7.2)\n",
      "Requirement already satisfied: werkzeug>=1.0.1 in c:\\users\\kirti\\appdata\\local\\programs\\python\\python312\\lib\\site-packages (from tensorboard<2.19,>=2.18->tensorflow-intel==2.18.0->tensorflow) (3.0.6)\n",
      "Requirement already satisfied: MarkupSafe>=2.1.1 in c:\\users\\kirti\\appdata\\local\\programs\\python\\python312\\lib\\site-packages (from werkzeug>=1.0.1->tensorboard<2.19,>=2.18->tensorflow-intel==2.18.0->tensorflow) (3.0.2)\n"
     ]
    },
    {
     "name": "stderr",
     "output_type": "stream",
     "text": [
      "\n",
      "[notice] A new release of pip is available: 24.0 -> 24.3.1\n",
      "[notice] To update, run: python.exe -m pip install --upgrade pip\n"
     ]
    },
    {
     "name": "stdout",
     "output_type": "stream",
     "text": [
      "Requirement already satisfied: keras_nlp in c:\\users\\kirti\\appdata\\local\\programs\\python\\python312\\lib\\site-packages (0.0.2)\n",
      "Requirement already satisfied: numpy>=1.15.4 in c:\\users\\kirti\\appdata\\local\\programs\\python\\python312\\lib\\site-packages (from keras_nlp) (1.26.4)\n",
      "Requirement already satisfied: tf-nightly in c:\\users\\kirti\\appdata\\local\\programs\\python\\python312\\lib\\site-packages (from keras_nlp) (2.19.0.dev20241029)\n",
      "Requirement already satisfied: tf-nightly-intel==2.19.0-dev20241029 in c:\\users\\kirti\\appdata\\local\\programs\\python\\python312\\lib\\site-packages (from tf-nightly->keras_nlp) (2.19.0.dev20241029)\n",
      "Requirement already satisfied: absl-py>=1.0.0 in c:\\users\\kirti\\appdata\\local\\programs\\python\\python312\\lib\\site-packages (from tf-nightly-intel==2.19.0-dev20241029->tf-nightly->keras_nlp) (2.1.0)\n",
      "Requirement already satisfied: astunparse>=1.6.0 in c:\\users\\kirti\\appdata\\local\\programs\\python\\python312\\lib\\site-packages (from tf-nightly-intel==2.19.0-dev20241029->tf-nightly->keras_nlp) (1.6.3)\n",
      "Requirement already satisfied: flatbuffers>=24.3.25 in c:\\users\\kirti\\appdata\\local\\programs\\python\\python312\\lib\\site-packages (from tf-nightly-intel==2.19.0-dev20241029->tf-nightly->keras_nlp) (24.3.25)\n",
      "Requirement already satisfied: gast!=0.5.0,!=0.5.1,!=0.5.2,>=0.2.1 in c:\\users\\kirti\\appdata\\local\\programs\\python\\python312\\lib\\site-packages (from tf-nightly-intel==2.19.0-dev20241029->tf-nightly->keras_nlp) (0.6.0)\n",
      "Requirement already satisfied: google-pasta>=0.1.1 in c:\\users\\kirti\\appdata\\local\\programs\\python\\python312\\lib\\site-packages (from tf-nightly-intel==2.19.0-dev20241029->tf-nightly->keras_nlp) (0.2.0)\n",
      "Requirement already satisfied: libclang>=13.0.0 in c:\\users\\kirti\\appdata\\local\\programs\\python\\python312\\lib\\site-packages (from tf-nightly-intel==2.19.0-dev20241029->tf-nightly->keras_nlp) (18.1.1)\n",
      "Requirement already satisfied: opt-einsum>=2.3.2 in c:\\users\\kirti\\appdata\\local\\programs\\python\\python312\\lib\\site-packages (from tf-nightly-intel==2.19.0-dev20241029->tf-nightly->keras_nlp) (3.4.0)\n",
      "Requirement already satisfied: packaging in c:\\users\\kirti\\appdata\\roaming\\python\\python312\\site-packages (from tf-nightly-intel==2.19.0-dev20241029->tf-nightly->keras_nlp) (24.1)\n",
      "Requirement already satisfied: protobuf!=4.21.0,!=4.21.1,!=4.21.2,!=4.21.3,!=4.21.4,!=4.21.5,<6.0.0dev,>=3.20.3 in c:\\users\\kirti\\appdata\\local\\programs\\python\\python312\\lib\\site-packages (from tf-nightly-intel==2.19.0-dev20241029->tf-nightly->keras_nlp) (5.28.3)\n",
      "Requirement already satisfied: requests<3,>=2.21.0 in c:\\users\\kirti\\appdata\\local\\programs\\python\\python312\\lib\\site-packages (from tf-nightly-intel==2.19.0-dev20241029->tf-nightly->keras_nlp) (2.32.3)\n",
      "Requirement already satisfied: setuptools in c:\\users\\kirti\\appdata\\local\\programs\\python\\python312\\lib\\site-packages (from tf-nightly-intel==2.19.0-dev20241029->tf-nightly->keras_nlp) (75.3.0)\n",
      "Requirement already satisfied: six>=1.12.0 in c:\\users\\kirti\\appdata\\roaming\\python\\python312\\site-packages (from tf-nightly-intel==2.19.0-dev20241029->tf-nightly->keras_nlp) (1.16.0)\n",
      "Requirement already satisfied: termcolor>=1.1.0 in c:\\users\\kirti\\appdata\\local\\programs\\python\\python312\\lib\\site-packages (from tf-nightly-intel==2.19.0-dev20241029->tf-nightly->keras_nlp) (2.5.0)\n",
      "Requirement already satisfied: typing-extensions>=3.6.6 in c:\\users\\kirti\\appdata\\local\\programs\\python\\python312\\lib\\site-packages (from tf-nightly-intel==2.19.0-dev20241029->tf-nightly->keras_nlp) (4.12.2)\n",
      "Requirement already satisfied: wrapt>=1.11.0 in c:\\users\\kirti\\appdata\\local\\programs\\python\\python312\\lib\\site-packages (from tf-nightly-intel==2.19.0-dev20241029->tf-nightly->keras_nlp) (1.16.0)\n",
      "Requirement already satisfied: grpcio<2.0,>=1.24.3 in c:\\users\\kirti\\appdata\\local\\programs\\python\\python312\\lib\\site-packages (from tf-nightly-intel==2.19.0-dev20241029->tf-nightly->keras_nlp) (1.67.1)\n",
      "Requirement already satisfied: tb-nightly~=2.19.0.a in c:\\users\\kirti\\appdata\\local\\programs\\python\\python312\\lib\\site-packages (from tf-nightly-intel==2.19.0-dev20241029->tf-nightly->keras_nlp) (2.19.0a20241029)\n",
      "Requirement already satisfied: keras-nightly>=3.6.0.dev in c:\\users\\kirti\\appdata\\local\\programs\\python\\python312\\lib\\site-packages (from tf-nightly-intel==2.19.0-dev20241029->tf-nightly->keras_nlp) (3.7.0.dev2024103003)\n",
      "Requirement already satisfied: h5py>=3.11.0 in c:\\users\\kirti\\appdata\\local\\programs\\python\\python312\\lib\\site-packages (from tf-nightly-intel==2.19.0-dev20241029->tf-nightly->keras_nlp) (3.12.1)\n",
      "Requirement already satisfied: ml-dtypes<1.0.0,>=0.4.0 in c:\\users\\kirti\\appdata\\local\\programs\\python\\python312\\lib\\site-packages (from tf-nightly-intel==2.19.0-dev20241029->tf-nightly->keras_nlp) (0.4.1)\n",
      "Requirement already satisfied: wheel<1.0,>=0.23.0 in c:\\users\\kirti\\appdata\\local\\programs\\python\\python312\\lib\\site-packages (from astunparse>=1.6.0->tf-nightly-intel==2.19.0-dev20241029->tf-nightly->keras_nlp) (0.44.0)\n",
      "Requirement already satisfied: rich in c:\\users\\kirti\\appdata\\local\\programs\\python\\python312\\lib\\site-packages (from keras-nightly>=3.6.0.dev->tf-nightly-intel==2.19.0-dev20241029->tf-nightly->keras_nlp) (13.9.3)\n",
      "Requirement already satisfied: namex in c:\\users\\kirti\\appdata\\local\\programs\\python\\python312\\lib\\site-packages (from keras-nightly>=3.6.0.dev->tf-nightly-intel==2.19.0-dev20241029->tf-nightly->keras_nlp) (0.0.8)\n",
      "Requirement already satisfied: optree in c:\\users\\kirti\\appdata\\local\\programs\\python\\python312\\lib\\site-packages (from keras-nightly>=3.6.0.dev->tf-nightly-intel==2.19.0-dev20241029->tf-nightly->keras_nlp) (0.13.0)\n",
      "Requirement already satisfied: charset-normalizer<4,>=2 in c:\\users\\kirti\\appdata\\local\\programs\\python\\python312\\lib\\site-packages (from requests<3,>=2.21.0->tf-nightly-intel==2.19.0-dev20241029->tf-nightly->keras_nlp) (3.4.0)\n",
      "Requirement already satisfied: idna<4,>=2.5 in c:\\users\\kirti\\appdata\\local\\programs\\python\\python312\\lib\\site-packages (from requests<3,>=2.21.0->tf-nightly-intel==2.19.0-dev20241029->tf-nightly->keras_nlp) (3.10)\n",
      "Requirement already satisfied: urllib3<3,>=1.21.1 in c:\\users\\kirti\\appdata\\local\\programs\\python\\python312\\lib\\site-packages (from requests<3,>=2.21.0->tf-nightly-intel==2.19.0-dev20241029->tf-nightly->keras_nlp) (2.2.3)\n",
      "Requirement already satisfied: certifi>=2017.4.17 in c:\\users\\kirti\\appdata\\local\\programs\\python\\python312\\lib\\site-packages (from requests<3,>=2.21.0->tf-nightly-intel==2.19.0-dev20241029->tf-nightly->keras_nlp) (2024.8.30)\n",
      "Requirement already satisfied: markdown>=2.6.8 in c:\\users\\kirti\\appdata\\local\\programs\\python\\python312\\lib\\site-packages (from tb-nightly~=2.19.0.a->tf-nightly-intel==2.19.0-dev20241029->tf-nightly->keras_nlp) (3.7)\n",
      "Requirement already satisfied: tensorboard-data-server<0.8.0,>=0.7.0 in c:\\users\\kirti\\appdata\\local\\programs\\python\\python312\\lib\\site-packages (from tb-nightly~=2.19.0.a->tf-nightly-intel==2.19.0-dev20241029->tf-nightly->keras_nlp) (0.7.2)\n",
      "Requirement already satisfied: werkzeug>=1.0.1 in c:\\users\\kirti\\appdata\\local\\programs\\python\\python312\\lib\\site-packages (from tb-nightly~=2.19.0.a->tf-nightly-intel==2.19.0-dev20241029->tf-nightly->keras_nlp) (3.0.6)\n",
      "Requirement already satisfied: MarkupSafe>=2.1.1 in c:\\users\\kirti\\appdata\\local\\programs\\python\\python312\\lib\\site-packages (from werkzeug>=1.0.1->tb-nightly~=2.19.0.a->tf-nightly-intel==2.19.0-dev20241029->tf-nightly->keras_nlp) (3.0.2)\n",
      "Requirement already satisfied: markdown-it-py>=2.2.0 in c:\\users\\kirti\\appdata\\local\\programs\\python\\python312\\lib\\site-packages (from rich->keras-nightly>=3.6.0.dev->tf-nightly-intel==2.19.0-dev20241029->tf-nightly->keras_nlp) (3.0.0)\n",
      "Requirement already satisfied: pygments<3.0.0,>=2.13.0 in c:\\users\\kirti\\appdata\\roaming\\python\\python312\\site-packages (from rich->keras-nightly>=3.6.0.dev->tf-nightly-intel==2.19.0-dev20241029->tf-nightly->keras_nlp) (2.18.0)\n",
      "Requirement already satisfied: mdurl~=0.1 in c:\\users\\kirti\\appdata\\local\\programs\\python\\python312\\lib\\site-packages (from markdown-it-py>=2.2.0->rich->keras-nightly>=3.6.0.dev->tf-nightly-intel==2.19.0-dev20241029->tf-nightly->keras_nlp) (0.1.2)\n"
     ]
    },
    {
     "name": "stderr",
     "output_type": "stream",
     "text": [
      "\n",
      "[notice] A new release of pip is available: 24.0 -> 24.3.1\n",
      "[notice] To update, run: python.exe -m pip install --upgrade pip\n"
     ]
    },
    {
     "name": "stdout",
     "output_type": "stream",
     "text": [
      "Requirement already satisfied: gensim in c:\\users\\kirti\\appdata\\local\\programs\\python\\python312\\lib\\site-packages (4.3.3)\n",
      "Requirement already satisfied: nltk in c:\\users\\kirti\\appdata\\local\\programs\\python\\python312\\lib\\site-packages (3.9.1)\n",
      "Requirement already satisfied: numpy<2.0,>=1.18.5 in c:\\users\\kirti\\appdata\\local\\programs\\python\\python312\\lib\\site-packages (from gensim) (1.26.4)\n",
      "Requirement already satisfied: scipy<1.14.0,>=1.7.0 in c:\\users\\kirti\\appdata\\local\\programs\\python\\python312\\lib\\site-packages (from gensim) (1.13.1)\n",
      "Requirement already satisfied: smart-open>=1.8.1 in c:\\users\\kirti\\appdata\\local\\programs\\python\\python312\\lib\\site-packages (from gensim) (7.0.5)\n",
      "Requirement already satisfied: click in c:\\users\\kirti\\appdata\\local\\programs\\python\\python312\\lib\\site-packages (from nltk) (8.1.7)\n",
      "Requirement already satisfied: joblib in c:\\users\\kirti\\appdata\\local\\programs\\python\\python312\\lib\\site-packages (from nltk) (1.4.2)\n",
      "Requirement already satisfied: regex>=2021.8.3 in c:\\users\\kirti\\appdata\\local\\programs\\python\\python312\\lib\\site-packages (from nltk) (2024.9.11)\n",
      "Requirement already satisfied: tqdm in c:\\users\\kirti\\appdata\\local\\programs\\python\\python312\\lib\\site-packages (from nltk) (4.66.6)\n",
      "Requirement already satisfied: wrapt in c:\\users\\kirti\\appdata\\local\\programs\\python\\python312\\lib\\site-packages (from smart-open>=1.8.1->gensim) (1.16.0)\n",
      "Requirement already satisfied: colorama in c:\\users\\kirti\\appdata\\roaming\\python\\python312\\site-packages (from click->nltk) (0.4.6)\n"
     ]
    },
    {
     "name": "stderr",
     "output_type": "stream",
     "text": [
      "\n",
      "[notice] A new release of pip is available: 24.0 -> 24.3.1\n",
      "[notice] To update, run: python.exe -m pip install --upgrade pip\n"
     ]
    },
    {
     "name": "stdout",
     "output_type": "stream",
     "text": [
      "Requirement already satisfied: tensorflow in c:\\users\\kirti\\appdata\\local\\programs\\python\\python312\\lib\\site-packages (2.18.0)\n",
      "Requirement already satisfied: keras in c:\\users\\kirti\\appdata\\local\\programs\\python\\python312\\lib\\site-packages (3.6.0)\n",
      "Requirement already satisfied: tensorflow-intel==2.18.0 in c:\\users\\kirti\\appdata\\local\\programs\\python\\python312\\lib\\site-packages (from tensorflow) (2.18.0)\n",
      "Requirement already satisfied: absl-py>=1.0.0 in c:\\users\\kirti\\appdata\\local\\programs\\python\\python312\\lib\\site-packages (from tensorflow-intel==2.18.0->tensorflow) (2.1.0)\n",
      "Requirement already satisfied: astunparse>=1.6.0 in c:\\users\\kirti\\appdata\\local\\programs\\python\\python312\\lib\\site-packages (from tensorflow-intel==2.18.0->tensorflow) (1.6.3)\n",
      "Requirement already satisfied: flatbuffers>=24.3.25 in c:\\users\\kirti\\appdata\\local\\programs\\python\\python312\\lib\\site-packages (from tensorflow-intel==2.18.0->tensorflow) (24.3.25)\n",
      "Requirement already satisfied: gast!=0.5.0,!=0.5.1,!=0.5.2,>=0.2.1 in c:\\users\\kirti\\appdata\\local\\programs\\python\\python312\\lib\\site-packages (from tensorflow-intel==2.18.0->tensorflow) (0.6.0)\n",
      "Requirement already satisfied: google-pasta>=0.1.1 in c:\\users\\kirti\\appdata\\local\\programs\\python\\python312\\lib\\site-packages (from tensorflow-intel==2.18.0->tensorflow) (0.2.0)\n",
      "Requirement already satisfied: libclang>=13.0.0 in c:\\users\\kirti\\appdata\\local\\programs\\python\\python312\\lib\\site-packages (from tensorflow-intel==2.18.0->tensorflow) (18.1.1)\n",
      "Requirement already satisfied: opt-einsum>=2.3.2 in c:\\users\\kirti\\appdata\\local\\programs\\python\\python312\\lib\\site-packages (from tensorflow-intel==2.18.0->tensorflow) (3.4.0)\n",
      "Requirement already satisfied: packaging in c:\\users\\kirti\\appdata\\roaming\\python\\python312\\site-packages (from tensorflow-intel==2.18.0->tensorflow) (24.1)\n",
      "Requirement already satisfied: protobuf!=4.21.0,!=4.21.1,!=4.21.2,!=4.21.3,!=4.21.4,!=4.21.5,<6.0.0dev,>=3.20.3 in c:\\users\\kirti\\appdata\\local\\programs\\python\\python312\\lib\\site-packages (from tensorflow-intel==2.18.0->tensorflow) (5.28.3)\n",
      "Requirement already satisfied: requests<3,>=2.21.0 in c:\\users\\kirti\\appdata\\local\\programs\\python\\python312\\lib\\site-packages (from tensorflow-intel==2.18.0->tensorflow) (2.32.3)\n",
      "Requirement already satisfied: setuptools in c:\\users\\kirti\\appdata\\local\\programs\\python\\python312\\lib\\site-packages (from tensorflow-intel==2.18.0->tensorflow) (75.3.0)\n",
      "Requirement already satisfied: six>=1.12.0 in c:\\users\\kirti\\appdata\\roaming\\python\\python312\\site-packages (from tensorflow-intel==2.18.0->tensorflow) (1.16.0)\n",
      "Requirement already satisfied: termcolor>=1.1.0 in c:\\users\\kirti\\appdata\\local\\programs\\python\\python312\\lib\\site-packages (from tensorflow-intel==2.18.0->tensorflow) (2.5.0)\n",
      "Requirement already satisfied: typing-extensions>=3.6.6 in c:\\users\\kirti\\appdata\\local\\programs\\python\\python312\\lib\\site-packages (from tensorflow-intel==2.18.0->tensorflow) (4.12.2)\n",
      "Requirement already satisfied: wrapt>=1.11.0 in c:\\users\\kirti\\appdata\\local\\programs\\python\\python312\\lib\\site-packages (from tensorflow-intel==2.18.0->tensorflow) (1.16.0)\n",
      "Requirement already satisfied: grpcio<2.0,>=1.24.3 in c:\\users\\kirti\\appdata\\local\\programs\\python\\python312\\lib\\site-packages (from tensorflow-intel==2.18.0->tensorflow) (1.67.1)\n",
      "Requirement already satisfied: tensorboard<2.19,>=2.18 in c:\\users\\kirti\\appdata\\local\\programs\\python\\python312\\lib\\site-packages (from tensorflow-intel==2.18.0->tensorflow) (2.18.0)\n",
      "Requirement already satisfied: numpy<2.1.0,>=1.26.0 in c:\\users\\kirti\\appdata\\local\\programs\\python\\python312\\lib\\site-packages (from tensorflow-intel==2.18.0->tensorflow) (1.26.4)\n",
      "Requirement already satisfied: h5py>=3.11.0 in c:\\users\\kirti\\appdata\\local\\programs\\python\\python312\\lib\\site-packages (from tensorflow-intel==2.18.0->tensorflow) (3.12.1)\n",
      "Requirement already satisfied: ml-dtypes<0.5.0,>=0.4.0 in c:\\users\\kirti\\appdata\\local\\programs\\python\\python312\\lib\\site-packages (from tensorflow-intel==2.18.0->tensorflow) (0.4.1)\n",
      "Requirement already satisfied: rich in c:\\users\\kirti\\appdata\\local\\programs\\python\\python312\\lib\\site-packages (from keras) (13.9.3)\n",
      "Requirement already satisfied: namex in c:\\users\\kirti\\appdata\\local\\programs\\python\\python312\\lib\\site-packages (from keras) (0.0.8)\n",
      "Requirement already satisfied: optree in c:\\users\\kirti\\appdata\\local\\programs\\python\\python312\\lib\\site-packages (from keras) (0.13.0)\n",
      "Requirement already satisfied: markdown-it-py>=2.2.0 in c:\\users\\kirti\\appdata\\local\\programs\\python\\python312\\lib\\site-packages (from rich->keras) (3.0.0)\n",
      "Requirement already satisfied: pygments<3.0.0,>=2.13.0 in c:\\users\\kirti\\appdata\\roaming\\python\\python312\\site-packages (from rich->keras) (2.18.0)\n",
      "Requirement already satisfied: wheel<1.0,>=0.23.0 in c:\\users\\kirti\\appdata\\local\\programs\\python\\python312\\lib\\site-packages (from astunparse>=1.6.0->tensorflow-intel==2.18.0->tensorflow) (0.44.0)\n",
      "Requirement already satisfied: mdurl~=0.1 in c:\\users\\kirti\\appdata\\local\\programs\\python\\python312\\lib\\site-packages (from markdown-it-py>=2.2.0->rich->keras) (0.1.2)\n",
      "Requirement already satisfied: charset-normalizer<4,>=2 in c:\\users\\kirti\\appdata\\local\\programs\\python\\python312\\lib\\site-packages (from requests<3,>=2.21.0->tensorflow-intel==2.18.0->tensorflow) (3.4.0)\n",
      "Requirement already satisfied: idna<4,>=2.5 in c:\\users\\kirti\\appdata\\local\\programs\\python\\python312\\lib\\site-packages (from requests<3,>=2.21.0->tensorflow-intel==2.18.0->tensorflow) (3.10)\n",
      "Requirement already satisfied: urllib3<3,>=1.21.1 in c:\\users\\kirti\\appdata\\local\\programs\\python\\python312\\lib\\site-packages (from requests<3,>=2.21.0->tensorflow-intel==2.18.0->tensorflow) (2.2.3)\n",
      "Requirement already satisfied: certifi>=2017.4.17 in c:\\users\\kirti\\appdata\\local\\programs\\python\\python312\\lib\\site-packages (from requests<3,>=2.21.0->tensorflow-intel==2.18.0->tensorflow) (2024.8.30)\n",
      "Requirement already satisfied: markdown>=2.6.8 in c:\\users\\kirti\\appdata\\local\\programs\\python\\python312\\lib\\site-packages (from tensorboard<2.19,>=2.18->tensorflow-intel==2.18.0->tensorflow) (3.7)\n",
      "Requirement already satisfied: tensorboard-data-server<0.8.0,>=0.7.0 in c:\\users\\kirti\\appdata\\local\\programs\\python\\python312\\lib\\site-packages (from tensorboard<2.19,>=2.18->tensorflow-intel==2.18.0->tensorflow) (0.7.2)\n",
      "Requirement already satisfied: werkzeug>=1.0.1 in c:\\users\\kirti\\appdata\\local\\programs\\python\\python312\\lib\\site-packages (from tensorboard<2.19,>=2.18->tensorflow-intel==2.18.0->tensorflow) (3.0.6)\n",
      "Requirement already satisfied: MarkupSafe>=2.1.1 in c:\\users\\kirti\\appdata\\local\\programs\\python\\python312\\lib\\site-packages (from werkzeug>=1.0.1->tensorboard<2.19,>=2.18->tensorflow-intel==2.18.0->tensorflow) (3.0.2)\n"
     ]
    },
    {
     "name": "stderr",
     "output_type": "stream",
     "text": [
      "\n",
      "[notice] A new release of pip is available: 24.0 -> 24.3.1\n",
      "[notice] To update, run: python.exe -m pip install --upgrade pip\n"
     ]
    },
    {
     "name": "stdout",
     "output_type": "stream",
     "text": [
      "Requirement already satisfied: scikit-learn in c:\\users\\kirti\\appdata\\local\\programs\\python\\python312\\lib\\site-packages (1.5.2)"
     ]
    },
    {
     "name": "stderr",
     "output_type": "stream",
     "text": [
      "\n",
      "[notice] A new release of pip is available: 24.0 -> 24.3.1\n",
      "[notice] To update, run: python.exe -m pip install --upgrade pip\n"
     ]
    },
    {
     "name": "stdout",
     "output_type": "stream",
     "text": [
      "\n",
      "Requirement already satisfied: joblib in c:\\users\\kirti\\appdata\\local\\programs\\python\\python312\\lib\\site-packages (1.4.2)\n",
      "Requirement already satisfied: numpy>=1.19.5 in c:\\users\\kirti\\appdata\\local\\programs\\python\\python312\\lib\\site-packages (from scikit-learn) (1.26.4)\n",
      "Requirement already satisfied: scipy>=1.6.0 in c:\\users\\kirti\\appdata\\local\\programs\\python\\python312\\lib\\site-packages (from scikit-learn) (1.13.1)\n",
      "Requirement already satisfied: threadpoolctl>=3.1.0 in c:\\users\\kirti\\appdata\\local\\programs\\python\\python312\\lib\\site-packages (from scikit-learn) (3.5.0)\n"
     ]
    }
   ],
   "source": [
    "!pip install scikit-learn \n",
    "!pip install keras tensorflow\n",
    "!pip install keras_nlp\n",
    "!pip install gensim nltk\n",
    "!pip install --upgrade tensorflow keras\n",
    "!pip install --upgrade scikit-learn joblib\n"
   ]
  },
  {
   "cell_type": "code",
   "execution_count": 2,
   "id": "00c064d3-5570-4fc9-a303-e0b8d2fcb9ec",
   "metadata": {},
   "outputs": [
    {
     "name": "stderr",
     "output_type": "stream",
     "text": [
      "[nltk_data] Downloading package punkt to\n",
      "[nltk_data]     C:\\Users\\kirti\\AppData\\Roaming\\nltk_data...\n",
      "[nltk_data]   Package punkt is already up-to-date!\n",
      "[nltk_data] Downloading package stopwords to\n",
      "[nltk_data]     C:\\Users\\kirti\\AppData\\Roaming\\nltk_data...\n",
      "[nltk_data]   Package stopwords is already up-to-date!\n"
     ]
    }
   ],
   "source": [
    "import numpy as np\n",
    "import pandas as pd\n",
    "import matplotlib.pyplot as plt\n",
    "import seaborn as sns\n",
    "import keras\n",
    "import keras_nlp\n",
    "import tensorflow as tf\n",
    "from sklearn.feature_extraction.text import CountVectorizer, TfidfVectorizer\n",
    "from sklearn.model_selection import train_test_split, cross_val_score\n",
    "from sklearn.naive_bayes import MultinomialNB\n",
    "from sklearn.metrics import accuracy_score, precision_score, recall_score, f1_score, confusion_matrix, classification_report\n",
    "from sklearn.preprocessing import LabelEncoder\n",
    "from sklearn.ensemble import RandomForestClassifier\n",
    "from tensorflow.keras.preprocessing.sequence import pad_sequences\n",
    "import string\n",
    "from tensorflow.keras.preprocessing.text import Tokenizer\n",
    "from nltk.tokenize import word_tokenize\n",
    "from nltk.corpus import stopwords\n",
    "from nltk.stem import PorterStemmer\n",
    "from sklearn.ensemble import RandomForestClassifier\n",
    "from sklearn.metrics import mean_squared_error\n",
    "from sklearn.datasets import make_classification\n",
    "from sklearn.metrics import roc_curve, roc_auc_score\n",
    "from sklearn.preprocessing import OneHotEncoder\n",
    "from sklearn.model_selection import GridSearchCV\n",
    "from sklearn.metrics import precision_recall_curve, average_precision_score\n",
    "from sklearn.preprocessing import label_binarize\n",
    "import joblib\n",
    "from imblearn.combine import SMOTEENN\n",
    "from sklearn.multioutput import MultiOutputClassifier\n",
    "from sklearn.metrics import confusion_matrix, ConfusionMatrixDisplay\n",
    "import nltk\n",
    "nltk.download('punkt')   # For tokenization\n",
    "nltk.download('stopwords')   # If you use stop words\n",
    "nltk.data.path.append('C:/nltk_data')\n"
   ]
  },
  {
   "cell_type": "code",
   "execution_count": 3,
   "id": "96a2ae87-ec13-43fb-bbdc-eca8128d3ef3",
   "metadata": {},
   "outputs": [],
   "source": [
    "dataset = pd.read_csv(r\"C:\\Users\\kirti\\Downloads\\train.csv\", on_bad_lines='skip') \n",
    "\n",
    "df= pd.DataFrame(dataset)"
   ]
  },
  {
   "cell_type": "code",
   "execution_count": 4,
   "id": "209c6307-3965-4bd9-aa86-10786d9b8a01",
   "metadata": {},
   "outputs": [
    {
     "name": "stdout",
     "output_type": "stream",
     "text": [
      "       id             model_a              model_b  \\\n",
      "0   30192  gpt-4-1106-preview           gpt-4-0613   \n",
      "1   53567           koala-13b           gpt-4-0613   \n",
      "2   65089  gpt-3.5-turbo-0613       mistral-medium   \n",
      "3   96401    llama-2-13b-chat  mistral-7b-instruct   \n",
      "4  198779           koala-13b   gpt-3.5-turbo-0314   \n",
      "\n",
      "                                              prompt  \\\n",
      "0  [\"Is it morally right to try to have a certain...   \n",
      "1  [\"What is the difference between marriage lice...   \n",
      "2  [\"explain function calling. how would you call...   \n",
      "3  [\"How can I create a test set for a very rare ...   \n",
      "4  [\"What is the best way to travel from Tel-Aviv...   \n",
      "\n",
      "                                          response_a  \\\n",
      "0  [\"The question of whether it is morally right ...   \n",
      "1  [\"A marriage license is a legal document that ...   \n",
      "2  [\"Function calling is the process of invoking ...   \n",
      "3  [\"Creating a test set for a very rare category...   \n",
      "4  [\"The best way to travel from Tel Aviv to Jeru...   \n",
      "\n",
      "                                          response_b  winner_model_a  \\\n",
      "0  [\"As an AI, I don't have personal beliefs or o...               1   \n",
      "1  [\"A marriage license and a marriage certificat...               0   \n",
      "2  [\"Function calling is the process of invoking ...               0   \n",
      "3  [\"When building a classifier for a very rare c...               1   \n",
      "4  [\"The best way to travel from Tel-Aviv to Jeru...               0   \n",
      "\n",
      "   winner_model_b  winner_tie  y  \n",
      "0               0           0  2  \n",
      "1               1           0  3  \n",
      "2               0           1  4  \n",
      "3               0           0  2  \n",
      "4               1           0  3  \n"
     ]
    }
   ],
   "source": [
    "# Create conditions for the new label column\n",
    "conditions = [\n",
    "    df['winner_model_a'] == 1,\n",
    "    df['winner_model_b'] == 1,\n",
    "    df['winner_tie'] == 1\n",
    "]\n",
    "\n",
    "# Define the values corresponding to each condition\n",
    "values = [2, 3, 4]\n",
    "\n",
    "# Create the new label column\n",
    "df['y'] = np.select(conditions, values, default=0)  # Default can be set to 0 or any other value as needed\n",
    "\n",
    "print(df.head())"
   ]
  },
  {
   "cell_type": "code",
   "execution_count": 5,
   "id": "48478b0a",
   "metadata": {},
   "outputs": [
    {
     "name": "stderr",
     "output_type": "stream",
     "text": [
      "[nltk_data] Downloading package punkt_tab to\n",
      "[nltk_data]     C:\\Users\\kirti\\AppData\\Roaming\\nltk_data...\n",
      "[nltk_data]   Package punkt_tab is already up-to-date!\n"
     ]
    },
    {
     "data": {
      "text/plain": [
       "True"
      ]
     },
     "execution_count": 5,
     "metadata": {},
     "output_type": "execute_result"
    }
   ],
   "source": [
    "import nltk\n",
    "nltk.download('punkt_tab')"
   ]
  },
  {
   "cell_type": "code",
   "execution_count": 6,
   "id": "bc0c7bf9",
   "metadata": {},
   "outputs": [
    {
     "data": {
      "application/vnd.plotly.v1+json": {
       "config": {
        "plotlyServerURL": "https://plot.ly"
       },
       "data": [
        {
         "alignmentgroup": "True",
         "hovertemplate": "LLM=%{x}<br>Count=%{marker.color}<extra></extra>",
         "legendgroup": "",
         "marker": {
          "color": [
           7387,
           7083,
           6165,
           5583,
           4136,
           4122,
           3978,
           3720,
           3545,
           3448,
           3428,
           3352,
           3315,
           2607,
           2456,
           2401,
           1977,
           1793,
           1644,
           1632,
           1617,
           1598,
           1591,
           1580,
           1494,
           1486,
           1474,
           1447,
           1438,
           1420,
           1403,
           1302,
           1261,
           1250,
           1200,
           1160,
           1158,
           1134,
           1072,
           1021,
           989,
           952,
           928,
           914,
           899,
           861,
           800,
           795,
           771,
           684,
           667,
           598,
           564,
           551,
           547,
           412,
           408,
           373,
           325,
           286,
           244,
           208,
           200,
           100
          ],
          "coloraxis": "coloraxis",
          "pattern": {
           "shape": ""
          }
         },
         "name": "",
         "offsetgroup": "",
         "orientation": "v",
         "showlegend": false,
         "textposition": "auto",
         "type": "bar",
         "x": [
          "gpt-4-1106-preview",
          "gpt-3.5-turbo-0613",
          "gpt-4-0613",
          "claude-2.1",
          "claude-instant-1",
          "gpt-4-0314",
          "claude-1",
          "vicuna-33b",
          "mixtral-8x7b-instruct-v0.1",
          "vicuna-13b",
          "llama-2-70b-chat",
          "gpt-3.5-turbo-1106",
          "mistral-medium",
          "llama-2-13b-chat",
          "claude-2.0",
          "zephyr-7b-beta",
          "palm-2",
          "llama-2-7b-chat",
          "wizardlm-70b",
          "openchat-3.5",
          "mistral-7b-instruct",
          "koala-13b",
          "vicuna-7b",
          "wizardlm-13b",
          "oasst-pythia-12b",
          "gemini-pro-dev-api",
          "codellama-34b-instruct",
          "yi-34b-chat",
          "gemini-pro",
          "pplx-70b-online",
          "alpaca-13b",
          "gpt-3.5-turbo-0314",
          "chatglm-6b",
          "pplx-7b-online",
          "tulu-2-dpo-70b",
          "gpt-4-0125-preview",
          "RWKV-4-Raven-14B",
          "starling-lm-7b-alpha",
          "qwen-14b-chat",
          "fastchat-t5-3b",
          "chatglm3-6b",
          "openhermes-2.5-mistral-7b",
          "mpt-7b-chat",
          "stripedhyena-nous-7b",
          "solar-10.7b-instruct-v1.0",
          "gpt-3.5-turbo-0125",
          "dolly-v2-12b",
          "deepseek-llm-67b-chat",
          "stablelm-tuned-alpha-7b",
          "guanaco-33b",
          "llama2-70b-steerlm-chat",
          "mpt-30b-chat",
          "chatglm2-6b",
          "qwen1.5-72b-chat",
          "llama-13b",
          "zephyr-7b-alpha",
          "gpt4all-13b-snoozy",
          "dolphin-2.2.1-mistral-7b",
          "nous-hermes-2-mixtral-8x7b-dpo",
          "falcon-180b-chat",
          "openchat-3.5-0106",
          "qwen1.5-7b-chat",
          "qwen1.5-4b-chat",
          "mistral-7b-instruct-v0.2"
         ],
         "xaxis": "x",
         "y": [
          7387,
          7083,
          6165,
          5583,
          4136,
          4122,
          3978,
          3720,
          3545,
          3448,
          3428,
          3352,
          3315,
          2607,
          2456,
          2401,
          1977,
          1793,
          1644,
          1632,
          1617,
          1598,
          1591,
          1580,
          1494,
          1486,
          1474,
          1447,
          1438,
          1420,
          1403,
          1302,
          1261,
          1250,
          1200,
          1160,
          1158,
          1134,
          1072,
          1021,
          989,
          952,
          928,
          914,
          899,
          861,
          800,
          795,
          771,
          684,
          667,
          598,
          564,
          551,
          547,
          412,
          408,
          373,
          325,
          286,
          244,
          208,
          200,
          100
         ],
         "yaxis": "y"
        }
       ],
       "layout": {
        "barmode": "relative",
        "coloraxis": {
         "colorbar": {
          "title": {
           "text": "Count"
          }
         },
         "colorscale": [
          [
           0,
           "#440154"
          ],
          [
           0.1111111111111111,
           "#482878"
          ],
          [
           0.2222222222222222,
           "#3e4989"
          ],
          [
           0.3333333333333333,
           "#31688e"
          ],
          [
           0.4444444444444444,
           "#26828e"
          ],
          [
           0.5555555555555556,
           "#1f9e89"
          ],
          [
           0.6666666666666666,
           "#35b779"
          ],
          [
           0.7777777777777778,
           "#6ece58"
          ],
          [
           0.8888888888888888,
           "#b5de2b"
          ],
          [
           1,
           "#fde725"
          ]
         ]
        },
        "legend": {
         "tracegroupgap": 0
        },
        "template": {
         "data": {
          "bar": [
           {
            "error_x": {
             "color": "#2a3f5f"
            },
            "error_y": {
             "color": "#2a3f5f"
            },
            "marker": {
             "line": {
              "color": "#E5ECF6",
              "width": 0.5
             },
             "pattern": {
              "fillmode": "overlay",
              "size": 10,
              "solidity": 0.2
             }
            },
            "type": "bar"
           }
          ],
          "barpolar": [
           {
            "marker": {
             "line": {
              "color": "#E5ECF6",
              "width": 0.5
             },
             "pattern": {
              "fillmode": "overlay",
              "size": 10,
              "solidity": 0.2
             }
            },
            "type": "barpolar"
           }
          ],
          "carpet": [
           {
            "aaxis": {
             "endlinecolor": "#2a3f5f",
             "gridcolor": "white",
             "linecolor": "white",
             "minorgridcolor": "white",
             "startlinecolor": "#2a3f5f"
            },
            "baxis": {
             "endlinecolor": "#2a3f5f",
             "gridcolor": "white",
             "linecolor": "white",
             "minorgridcolor": "white",
             "startlinecolor": "#2a3f5f"
            },
            "type": "carpet"
           }
          ],
          "choropleth": [
           {
            "colorbar": {
             "outlinewidth": 0,
             "ticks": ""
            },
            "type": "choropleth"
           }
          ],
          "contour": [
           {
            "colorbar": {
             "outlinewidth": 0,
             "ticks": ""
            },
            "colorscale": [
             [
              0,
              "#0d0887"
             ],
             [
              0.1111111111111111,
              "#46039f"
             ],
             [
              0.2222222222222222,
              "#7201a8"
             ],
             [
              0.3333333333333333,
              "#9c179e"
             ],
             [
              0.4444444444444444,
              "#bd3786"
             ],
             [
              0.5555555555555556,
              "#d8576b"
             ],
             [
              0.6666666666666666,
              "#ed7953"
             ],
             [
              0.7777777777777778,
              "#fb9f3a"
             ],
             [
              0.8888888888888888,
              "#fdca26"
             ],
             [
              1,
              "#f0f921"
             ]
            ],
            "type": "contour"
           }
          ],
          "contourcarpet": [
           {
            "colorbar": {
             "outlinewidth": 0,
             "ticks": ""
            },
            "type": "contourcarpet"
           }
          ],
          "heatmap": [
           {
            "colorbar": {
             "outlinewidth": 0,
             "ticks": ""
            },
            "colorscale": [
             [
              0,
              "#0d0887"
             ],
             [
              0.1111111111111111,
              "#46039f"
             ],
             [
              0.2222222222222222,
              "#7201a8"
             ],
             [
              0.3333333333333333,
              "#9c179e"
             ],
             [
              0.4444444444444444,
              "#bd3786"
             ],
             [
              0.5555555555555556,
              "#d8576b"
             ],
             [
              0.6666666666666666,
              "#ed7953"
             ],
             [
              0.7777777777777778,
              "#fb9f3a"
             ],
             [
              0.8888888888888888,
              "#fdca26"
             ],
             [
              1,
              "#f0f921"
             ]
            ],
            "type": "heatmap"
           }
          ],
          "heatmapgl": [
           {
            "colorbar": {
             "outlinewidth": 0,
             "ticks": ""
            },
            "colorscale": [
             [
              0,
              "#0d0887"
             ],
             [
              0.1111111111111111,
              "#46039f"
             ],
             [
              0.2222222222222222,
              "#7201a8"
             ],
             [
              0.3333333333333333,
              "#9c179e"
             ],
             [
              0.4444444444444444,
              "#bd3786"
             ],
             [
              0.5555555555555556,
              "#d8576b"
             ],
             [
              0.6666666666666666,
              "#ed7953"
             ],
             [
              0.7777777777777778,
              "#fb9f3a"
             ],
             [
              0.8888888888888888,
              "#fdca26"
             ],
             [
              1,
              "#f0f921"
             ]
            ],
            "type": "heatmapgl"
           }
          ],
          "histogram": [
           {
            "marker": {
             "pattern": {
              "fillmode": "overlay",
              "size": 10,
              "solidity": 0.2
             }
            },
            "type": "histogram"
           }
          ],
          "histogram2d": [
           {
            "colorbar": {
             "outlinewidth": 0,
             "ticks": ""
            },
            "colorscale": [
             [
              0,
              "#0d0887"
             ],
             [
              0.1111111111111111,
              "#46039f"
             ],
             [
              0.2222222222222222,
              "#7201a8"
             ],
             [
              0.3333333333333333,
              "#9c179e"
             ],
             [
              0.4444444444444444,
              "#bd3786"
             ],
             [
              0.5555555555555556,
              "#d8576b"
             ],
             [
              0.6666666666666666,
              "#ed7953"
             ],
             [
              0.7777777777777778,
              "#fb9f3a"
             ],
             [
              0.8888888888888888,
              "#fdca26"
             ],
             [
              1,
              "#f0f921"
             ]
            ],
            "type": "histogram2d"
           }
          ],
          "histogram2dcontour": [
           {
            "colorbar": {
             "outlinewidth": 0,
             "ticks": ""
            },
            "colorscale": [
             [
              0,
              "#0d0887"
             ],
             [
              0.1111111111111111,
              "#46039f"
             ],
             [
              0.2222222222222222,
              "#7201a8"
             ],
             [
              0.3333333333333333,
              "#9c179e"
             ],
             [
              0.4444444444444444,
              "#bd3786"
             ],
             [
              0.5555555555555556,
              "#d8576b"
             ],
             [
              0.6666666666666666,
              "#ed7953"
             ],
             [
              0.7777777777777778,
              "#fb9f3a"
             ],
             [
              0.8888888888888888,
              "#fdca26"
             ],
             [
              1,
              "#f0f921"
             ]
            ],
            "type": "histogram2dcontour"
           }
          ],
          "mesh3d": [
           {
            "colorbar": {
             "outlinewidth": 0,
             "ticks": ""
            },
            "type": "mesh3d"
           }
          ],
          "parcoords": [
           {
            "line": {
             "colorbar": {
              "outlinewidth": 0,
              "ticks": ""
             }
            },
            "type": "parcoords"
           }
          ],
          "pie": [
           {
            "automargin": true,
            "type": "pie"
           }
          ],
          "scatter": [
           {
            "fillpattern": {
             "fillmode": "overlay",
             "size": 10,
             "solidity": 0.2
            },
            "type": "scatter"
           }
          ],
          "scatter3d": [
           {
            "line": {
             "colorbar": {
              "outlinewidth": 0,
              "ticks": ""
             }
            },
            "marker": {
             "colorbar": {
              "outlinewidth": 0,
              "ticks": ""
             }
            },
            "type": "scatter3d"
           }
          ],
          "scattercarpet": [
           {
            "marker": {
             "colorbar": {
              "outlinewidth": 0,
              "ticks": ""
             }
            },
            "type": "scattercarpet"
           }
          ],
          "scattergeo": [
           {
            "marker": {
             "colorbar": {
              "outlinewidth": 0,
              "ticks": ""
             }
            },
            "type": "scattergeo"
           }
          ],
          "scattergl": [
           {
            "marker": {
             "colorbar": {
              "outlinewidth": 0,
              "ticks": ""
             }
            },
            "type": "scattergl"
           }
          ],
          "scattermapbox": [
           {
            "marker": {
             "colorbar": {
              "outlinewidth": 0,
              "ticks": ""
             }
            },
            "type": "scattermapbox"
           }
          ],
          "scatterpolar": [
           {
            "marker": {
             "colorbar": {
              "outlinewidth": 0,
              "ticks": ""
             }
            },
            "type": "scatterpolar"
           }
          ],
          "scatterpolargl": [
           {
            "marker": {
             "colorbar": {
              "outlinewidth": 0,
              "ticks": ""
             }
            },
            "type": "scatterpolargl"
           }
          ],
          "scatterternary": [
           {
            "marker": {
             "colorbar": {
              "outlinewidth": 0,
              "ticks": ""
             }
            },
            "type": "scatterternary"
           }
          ],
          "surface": [
           {
            "colorbar": {
             "outlinewidth": 0,
             "ticks": ""
            },
            "colorscale": [
             [
              0,
              "#0d0887"
             ],
             [
              0.1111111111111111,
              "#46039f"
             ],
             [
              0.2222222222222222,
              "#7201a8"
             ],
             [
              0.3333333333333333,
              "#9c179e"
             ],
             [
              0.4444444444444444,
              "#bd3786"
             ],
             [
              0.5555555555555556,
              "#d8576b"
             ],
             [
              0.6666666666666666,
              "#ed7953"
             ],
             [
              0.7777777777777778,
              "#fb9f3a"
             ],
             [
              0.8888888888888888,
              "#fdca26"
             ],
             [
              1,
              "#f0f921"
             ]
            ],
            "type": "surface"
           }
          ],
          "table": [
           {
            "cells": {
             "fill": {
              "color": "#EBF0F8"
             },
             "line": {
              "color": "white"
             }
            },
            "header": {
             "fill": {
              "color": "#C8D4E3"
             },
             "line": {
              "color": "white"
             }
            },
            "type": "table"
           }
          ]
         },
         "layout": {
          "annotationdefaults": {
           "arrowcolor": "#2a3f5f",
           "arrowhead": 0,
           "arrowwidth": 1
          },
          "autotypenumbers": "strict",
          "coloraxis": {
           "colorbar": {
            "outlinewidth": 0,
            "ticks": ""
           }
          },
          "colorscale": {
           "diverging": [
            [
             0,
             "#8e0152"
            ],
            [
             0.1,
             "#c51b7d"
            ],
            [
             0.2,
             "#de77ae"
            ],
            [
             0.3,
             "#f1b6da"
            ],
            [
             0.4,
             "#fde0ef"
            ],
            [
             0.5,
             "#f7f7f7"
            ],
            [
             0.6,
             "#e6f5d0"
            ],
            [
             0.7,
             "#b8e186"
            ],
            [
             0.8,
             "#7fbc41"
            ],
            [
             0.9,
             "#4d9221"
            ],
            [
             1,
             "#276419"
            ]
           ],
           "sequential": [
            [
             0,
             "#0d0887"
            ],
            [
             0.1111111111111111,
             "#46039f"
            ],
            [
             0.2222222222222222,
             "#7201a8"
            ],
            [
             0.3333333333333333,
             "#9c179e"
            ],
            [
             0.4444444444444444,
             "#bd3786"
            ],
            [
             0.5555555555555556,
             "#d8576b"
            ],
            [
             0.6666666666666666,
             "#ed7953"
            ],
            [
             0.7777777777777778,
             "#fb9f3a"
            ],
            [
             0.8888888888888888,
             "#fdca26"
            ],
            [
             1,
             "#f0f921"
            ]
           ],
           "sequentialminus": [
            [
             0,
             "#0d0887"
            ],
            [
             0.1111111111111111,
             "#46039f"
            ],
            [
             0.2222222222222222,
             "#7201a8"
            ],
            [
             0.3333333333333333,
             "#9c179e"
            ],
            [
             0.4444444444444444,
             "#bd3786"
            ],
            [
             0.5555555555555556,
             "#d8576b"
            ],
            [
             0.6666666666666666,
             "#ed7953"
            ],
            [
             0.7777777777777778,
             "#fb9f3a"
            ],
            [
             0.8888888888888888,
             "#fdca26"
            ],
            [
             1,
             "#f0f921"
            ]
           ]
          },
          "colorway": [
           "#636efa",
           "#EF553B",
           "#00cc96",
           "#ab63fa",
           "#FFA15A",
           "#19d3f3",
           "#FF6692",
           "#B6E880",
           "#FF97FF",
           "#FECB52"
          ],
          "font": {
           "color": "#2a3f5f"
          },
          "geo": {
           "bgcolor": "white",
           "lakecolor": "white",
           "landcolor": "#E5ECF6",
           "showlakes": true,
           "showland": true,
           "subunitcolor": "white"
          },
          "hoverlabel": {
           "align": "left"
          },
          "hovermode": "closest",
          "mapbox": {
           "style": "light"
          },
          "paper_bgcolor": "white",
          "plot_bgcolor": "#E5ECF6",
          "polar": {
           "angularaxis": {
            "gridcolor": "white",
            "linecolor": "white",
            "ticks": ""
           },
           "bgcolor": "#E5ECF6",
           "radialaxis": {
            "gridcolor": "white",
            "linecolor": "white",
            "ticks": ""
           }
          },
          "scene": {
           "xaxis": {
            "backgroundcolor": "#E5ECF6",
            "gridcolor": "white",
            "gridwidth": 2,
            "linecolor": "white",
            "showbackground": true,
            "ticks": "",
            "zerolinecolor": "white"
           },
           "yaxis": {
            "backgroundcolor": "#E5ECF6",
            "gridcolor": "white",
            "gridwidth": 2,
            "linecolor": "white",
            "showbackground": true,
            "ticks": "",
            "zerolinecolor": "white"
           },
           "zaxis": {
            "backgroundcolor": "#E5ECF6",
            "gridcolor": "white",
            "gridwidth": 2,
            "linecolor": "white",
            "showbackground": true,
            "ticks": "",
            "zerolinecolor": "white"
           }
          },
          "shapedefaults": {
           "line": {
            "color": "#2a3f5f"
           }
          },
          "ternary": {
           "aaxis": {
            "gridcolor": "white",
            "linecolor": "white",
            "ticks": ""
           },
           "baxis": {
            "gridcolor": "white",
            "linecolor": "white",
            "ticks": ""
           },
           "bgcolor": "#E5ECF6",
           "caxis": {
            "gridcolor": "white",
            "linecolor": "white",
            "ticks": ""
           }
          },
          "title": {
           "x": 0.05
          },
          "xaxis": {
           "automargin": true,
           "gridcolor": "white",
           "linecolor": "white",
           "ticks": "",
           "title": {
            "standoff": 15
           },
           "zerolinecolor": "white",
           "zerolinewidth": 2
          },
          "yaxis": {
           "automargin": true,
           "gridcolor": "white",
           "linecolor": "white",
           "ticks": "",
           "title": {
            "standoff": 15
           },
           "zerolinecolor": "white",
           "zerolinewidth": 2
          }
         }
        },
        "title": {
         "text": "Distribution of LLMs"
        },
        "xaxis": {
         "anchor": "y",
         "domain": [
          0,
          1
         ],
         "tickangle": -45,
         "title": {
          "text": "LLM"
         }
        },
        "yaxis": {
         "anchor": "x",
         "domain": [
          0,
          1
         ],
         "title": {
          "text": "Count"
         }
        }
       }
      }
     },
     "metadata": {},
     "output_type": "display_data"
    }
   ],
   "source": [
    "#EDA\n",
    "import plotly.express as px\n",
    "model_df = pd.concat([df.model_a, df.model_b])\n",
    "counts = model_df.value_counts().reset_index()\n",
    "counts.columns = ['LLM', 'Count']\n",
    "\n",
    "# Create a bar plot with custom styling using Plotly\n",
    "fig = px.bar(counts, x='LLM', y='Count',\n",
    "             title='Distribution of LLMs',\n",
    "             color='Count', color_continuous_scale='viridis')\n",
    "\n",
    "fig.update_layout(xaxis_tickangle=-45)  # Rotate x-axis labels for better readability\n",
    "\n",
    "fig.show()"
   ]
  },
  {
   "cell_type": "code",
   "execution_count": 7,
   "id": "e69c07b3-52c4-45b6-ba86-b9ae96fc780c",
   "metadata": {},
   "outputs": [],
   "source": [
    "#Preprocessing the data\n",
    "\n",
    "def preprocess_text(text):\n",
    "    # Convert to lowercase\n",
    "    text = text.lower()\n",
    "    \n",
    "    # Remove punctuation\n",
    "    text = text.translate(str.maketrans('', '', string.punctuation))\n",
    "    \n",
    "    # Tokenize\n",
    "    tokens = word_tokenize(text)\n",
    "    \n",
    "    # Remove stop words\n",
    "    stop_words = set(stopwords.words('english'))\n",
    "    tokens = [word for word in tokens if word not in stop_words]\n",
    "    \n",
    "    # Stemming\n",
    "    stemmer = PorterStemmer()\n",
    "    tokens = [stemmer.stem(word) for word in tokens]\n",
    "\n",
    "    return ' '.join(tokens)    \n",
    "\n",
    "df['prompt'] = df['prompt'].apply(preprocess_text)\n",
    "df['response_a'] = df['response_a'].apply(preprocess_text)\n",
    "df['response_b'] = df['response_b'].apply(preprocess_text)\n",
    "df['model_a'] = df['model_a'].apply(preprocess_text)\n",
    "df['model_b'] = df['model_b'].apply(preprocess_text)"
   ]
  },
  {
   "cell_type": "code",
   "execution_count": 8,
   "id": "a29446c2-c3e7-43cf-b587-189e45a67581",
   "metadata": {},
   "outputs": [],
   "source": [
    "# Initialize the tokenizer for prompts\n",
    "\n",
    "df['prompt'] = df['prompt'].astype(str)\n",
    "tokenizer_prompt = Tokenizer()\n",
    "\n",
    "# Fit the tokenizer on your texts\n",
    "tokenizer_prompt.fit_on_texts(df['prompt'].values)\n",
    "\n",
    "# Convert texts to sequences of integers\n",
    "df['prompt'] = tokenizer_prompt.texts_to_sequences(df['prompt'].values)"
   ]
  },
  {
   "cell_type": "code",
   "execution_count": 9,
   "id": "ba18aecb-06f4-446b-b245-3c1ce7169cad",
   "metadata": {},
   "outputs": [],
   "source": [
    "# Initialize the tokenizer for response_a\n",
    "\n",
    "df['response_a'] = df['response_a'].astype(str)\n",
    "tokenizer_a = Tokenizer()\n",
    "\n",
    "# Fit the tokenizer on your texts\n",
    "tokenizer_a.fit_on_texts(df['response_a'].values)\n",
    "\n",
    "# Convert texts to sequences of integers\n",
    "df['response_a'] = tokenizer_a.texts_to_sequences(df['response_a'].values)\n"
   ]
  },
  {
   "cell_type": "code",
   "execution_count": 10,
   "id": "77458ef6-7575-4ace-b820-3e401dd04d02",
   "metadata": {},
   "outputs": [],
   "source": [
    "# Initialize the tokenizer for response_b\n",
    "\n",
    "df['response_b'] = df['response_b'].astype(str)\n",
    "tokenizer_b = Tokenizer()\n",
    "\n",
    "# Fit the tokenizer on your texts\n",
    "tokenizer_b.fit_on_texts(df['response_b'].values)\n",
    "\n",
    "# Convert texts to sequences of integers\n",
    "df['response_b'] = tokenizer_b.texts_to_sequences(df['response_b'].values)\n"
   ]
  },
  {
   "cell_type": "code",
   "execution_count": 11,
   "id": "f97294a5-42fb-4df7-a724-a68303ac3e02",
   "metadata": {},
   "outputs": [],
   "source": [
    "#Initialize the tokenizer for model_a\n",
    "\n",
    "\n",
    "df['model_a'] = df['model_a'].astype(str)\n",
    "tokenizer_b = Tokenizer()\n",
    "\n",
    " #Fit the tokenizer on your texts\n",
    "tokenizer_b.fit_on_texts(df['model_a'].values)\n",
    "\n",
    "# Convert texts to sequences of integers\n",
    "df['model_a'] = tokenizer_b.texts_to_sequences(df['model_a'].values)\n"
   ]
  },
  {
   "cell_type": "code",
   "execution_count": 12,
   "id": "482f5736-cdee-41eb-8e1d-e7b7d37e9674",
   "metadata": {},
   "outputs": [],
   "source": [
    "# Initialize the tokenizer for model_b\n",
    "\n",
    "df['model_b'] = df['model_b'].astype(str)\n",
    "tokenizer_b = Tokenizer()\n",
    "\n",
    "# Fit the tokenizer on your texts\n",
    "tokenizer_b.fit_on_texts(df['model_b'].values)\n",
    "\n",
    "# Convert texts to sequences of integers\n",
    "df['model_b'] = tokenizer_b.texts_to_sequences(df['model_b'].values)"
   ]
  },
  {
   "cell_type": "code",
   "execution_count": 13,
   "id": "699019ff-7bdc-4b09-bcd2-c2fd857e14e4",
   "metadata": {},
   "outputs": [
    {
     "name": "stdout",
     "output_type": "stream",
     "text": [
      "[<class 'list'>]\n",
      "[<class 'list'>]\n"
     ]
    }
   ],
   "source": [
    "# Inspect the data to identify non-iterable values\n",
    "print(df['prompt'].apply(lambda x: type(x)).unique())  # Check types in 'prompt' column\n",
    "print(df['response_a'].apply(lambda x: type(x)).unique())  # Check types in 'response_a' column\n",
    "\n",
    "# Ensure that all elements are lists, converting single integers if necessary\n",
    "#df['options'] = df['options'].apply(lambda x: [x] if isinstance(x, int) else x)\n",
    "df['prompt'] = df['prompt'].apply(lambda x: [x] if isinstance(x, int) else x)\n",
    "df['response_a'] = df['response_a'].apply(lambda x: [x] if isinstance(x, int) else x)\n",
    "df['model_a'] = df['model_a'].apply(lambda x: [x] if isinstance(x, int) else x)\n",
    "df['model_b'] = df['model_b'].apply(lambda x: [x] if isinstance(x, int) else x)\n",
    "df['response_b'] = df['response_b'].apply(lambda x: [x] if isinstance(x, int) else x)\n",
    "# Convert non-iterable values to lists\n",
    "df['model_a'] = df['model_a'].apply(lambda x: [x] if not isinstance(x, (list, np.ndarray)) else x)\n",
    "df['model_b'] = df['model_b'].apply(lambda x: [x] if not isinstance(x, (list, np.ndarray)) else x)\n",
    "\n"
   ]
  },
  {
   "cell_type": "code",
   "execution_count": 14,
   "id": "ccb33784-1e0a-4dca-929d-a9b1870a4892",
   "metadata": {},
   "outputs": [],
   "source": [
    "# Define the maximum length of sequences (you can adjust this as needed)\n",
    "max_sequence_length = 250\n",
    "\n",
    "# Pad sequences to ensure consistent input size\n",
    "df['prompt'] = pad_sequences(df['prompt'].values, maxlen=max_sequence_length)\n",
    "df['response_a'] = pad_sequences(df['response_a'].values, maxlen=max_sequence_length)\n",
    "df['response_b'] = pad_sequences(df['response_b'].values, maxlen=max_sequence_length)\n",
    "df['model_a'] = pad_sequences(df['model_a'].values, maxlen=max_sequence_length)\n",
    "df['model_b'] = pad_sequences(df['model_b'].values, maxlen=max_sequence_length)"
   ]
  },
  {
   "cell_type": "code",
   "execution_count": 15,
   "id": "02d9edf2-71a2-4bb7-95af-e16219ed0523",
   "metadata": {},
   "outputs": [
    {
     "name": "stdout",
     "output_type": "stream",
     "text": [
      "Shape of X: (57477, 5)\n"
     ]
    }
   ],
   "source": [
    "# Convert features to numpy arrays and ensure proper shape\n",
    "X_prompt = np.array(df['prompt'].tolist()).reshape(-1, 1)\n",
    "X_response_a = np.array(df['response_a'].tolist()).reshape(-1, 1)\n",
    "X_response_b = np.array(df['response_b'].tolist()).reshape(-1, 1)\n",
    "X_model_a = np.array(df['model_a'].tolist()).reshape(-1, 1)\n",
    "X_model_b = np.array(df['model_b'].tolist()).reshape(-1, 1)\n",
    "Y_winner_model_a = np.array(df['winner_model_a'].tolist()).reshape(-1, 1)\n",
    "Y_winner_model_b = np.array(df['winner_model_b'].tolist()).reshape(-1, 1)\n",
    "Y_winner_tie = np.array(df['winner_tie'].tolist()).reshape(-1, 1)\n",
    "\n",
    "# Combine all feature arrays horizontally\n",
    "X = np.hstack([X_prompt, X_response_a, X_response_b, X_model_a, X_model_b])\n",
    "\n",
    "# Check the shape of X\n",
    "\n",
    "# Check the shape of X\n",
    "print(f\"Shape of X: {X.shape}\")\n",
    "\n",
    "y = df['y']"
   ]
  },
  {
   "cell_type": "code",
   "execution_count": 16,
   "id": "0e63ac73-94b1-4f61-8b48-29df16ea61b9",
   "metadata": {},
   "outputs": [
    {
     "name": "stdout",
     "output_type": "stream",
     "text": [
      "Shape of X_train: (10000, 5)\n",
      "Shape of X_test: (500, 5)\n",
      "Shape of y_train: (10000,)\n",
      "Shape of y_test: (500,)\n"
     ]
    }
   ],
   "source": [
    "\n",
    "X_train, X_test, y_train, y_test = train_test_split(X, y, test_size=0.3, random_state=42)\n",
    "\n",
    "X_train = X_train[501:10501]\n",
    "y_train = y_train[501:10501]\n",
    "X_test = X_test[:500]\n",
    "y_test = y_test[:500]\n",
    "\n",
    "\n",
    "print(f\"Shape of X_train: {X_train.shape}\")\n",
    "print(f\"Shape of X_test: {X_test.shape}\")\n",
    "print(f\"Shape of y_train: {y_train.shape}\")\n",
    "print(f\"Shape of y_test: {y_test.shape}\")"
   ]
  },
  {
   "cell_type": "code",
   "execution_count": 17,
   "id": "cba325b2-8291-44e8-aae7-a593ef5094f9",
   "metadata": {},
   "outputs": [],
   "source": [
    "#Removing overlapping training examples"
   ]
  },
  {
   "cell_type": "code",
   "execution_count": 18,
   "id": "c0bb9225-bc78-4055-8b45-adf9f692eb08",
   "metadata": {},
   "outputs": [
    {
     "name": "stdout",
     "output_type": "stream",
     "text": [
      "Number of overlapping samples: 11\n"
     ]
    }
   ],
   "source": [
    "# Convert arrays to sets of tuples for comparison\n",
    "#Converted to tuples for application of intersection method\n",
    "train_set = set(map(tuple, X_train))\n",
    "test_set = set(map(tuple, X_test))\n",
    "\n",
    "# Find any overlap\n",
    "overlap = train_set.intersection(test_set)\n",
    "print(f\"Number of overlapping samples: {len(overlap)}\")"
   ]
  },
  {
   "cell_type": "code",
   "execution_count": 19,
   "id": "43f28b16-e52a-477a-a88e-f74b5bfac488",
   "metadata": {},
   "outputs": [],
   "source": [
    "# Convert overlap to a list of tuples\n",
    "overlap_list = list(overlap)\n",
    "\n",
    "# Create a mask for removing overlapping examples\n",
    "overlap_indices = [i for i, row in enumerate(X_test) if tuple(row) in overlap_list]\n",
    "mask = np.ones(len(X_test), dtype=bool)\n",
    "mask[overlap_indices] = False\n",
    "\n",
    "# Apply mask to remove overlapping examples\n",
    "X_test_cleaned = X_test[mask]\n",
    "y_test_cleaned = y_test[mask]\n"
   ]
  },
  {
   "cell_type": "code",
   "execution_count": 20,
   "id": "53d6f830-206e-44a2-a05a-83222c28baa8",
   "metadata": {},
   "outputs": [
    {
     "name": "stdout",
     "output_type": "stream",
     "text": [
      "Number of overlapping samples after cleaning: 0\n"
     ]
    }
   ],
   "source": [
    "# Convert cleaned test set to a set of tuples\n",
    "test_cleaned_set = set(map(tuple, X_test_cleaned))\n",
    "\n",
    "# Verify no overlaps with training data\n",
    "new_overlap = train_set.intersection(test_cleaned_set)\n",
    "print(f\"Number of overlapping samples after cleaning: {len(new_overlap)}\")"
   ]
  },
  {
   "cell_type": "code",
   "execution_count": 21,
   "id": "40ff1083-295c-4ae2-a069-a70fe50b4b02",
   "metadata": {},
   "outputs": [
    {
     "name": "stdout",
     "output_type": "stream",
     "text": [
      "y_test_cleaned shape: (72,)\n",
      "X_test_cleaned shape: (72, 5)\n"
     ]
    }
   ],
   "source": [
    "print(f\"y_test_cleaned shape: {y_test_cleaned.shape}\")\n",
    "print(f\"X_test_cleaned shape: {X_test_cleaned.shape}\")"
   ]
  },
  {
   "cell_type": "code",
   "execution_count": 22,
   "id": "aeb6b868",
   "metadata": {},
   "outputs": [
    {
     "name": "stdout",
     "output_type": "stream",
     "text": [
      "Fitting 10 folds for each of 1728 candidates, totalling 17280 fits\n",
      "Best Parameters: {'classifier__bootstrap': True, 'classifier__class_weight': None, 'classifier__max_depth': 10, 'classifier__max_features': 'sqrt', 'classifier__min_samples_leaf': 4, 'classifier__min_samples_split': 10, 'classifier__n_estimators': 100}\n",
      "Best Cross-Validation Score: 0.33220000000000005\n"
     ]
    }
   ],
   "source": [
    "from sklearn.model_selection import StratifiedKFold, GridSearchCV\n",
    "from sklearn.ensemble import RandomForestClassifier\n",
    "from sklearn.metrics import classification_report, accuracy_score\n",
    "from imblearn.pipeline import Pipeline  \n",
    "from imblearn.over_sampling import SMOTE\n",
    "from sklearn.preprocessing import StandardScaler\n",
    "\n",
    "# Define RandomForest model and parameter grid\n",
    "rf_clf = RandomForestClassifier(random_state=42)\n",
    "param_grid = {\n",
    "    'classifier__n_estimators': [100, 200, 500, 800],\n",
    "    'classifier__max_depth': [10, 20, 30, None],\n",
    "    'classifier__min_samples_split': [2, 5, 10],\n",
    "    'classifier__min_samples_leaf': [1, 2, 4],\n",
    "    'classifier__max_features': ['sqrt', 'log2'],\n",
    "    'classifier__bootstrap': [True, False],\n",
    "    'classifier__class_weight': [None, 'balanced', 'balanced_subsample']\n",
    "}\n",
    "\n",
    "# Create a pipeline that applies SMOTE and then fits the classifier\n",
    "pipeline = Pipeline([\n",
    "   ('scaler', StandardScaler()),\n",
    "   ('smote', SMOTE(random_state=42)),\n",
    "   ('classifier', rf_clf)\n",
    "])\n",
    "\n",
    "\n",
    "# Use StratifiedKFold for cross-validation\n",
    "cv = StratifiedKFold(n_splits=10, shuffle=True, random_state=42)\n",
    "\n",
    "# GridSearchCV for hyperparameter tuning\n",
    "model = GridSearchCV(estimator=pipeline, param_grid=param_grid, \n",
    "                     scoring='accuracy', cv=cv, n_jobs=-1, verbose=2)\n",
    "\n",
    "# Fit the model with resampled data\n",
    "model.fit(X_train, y_train)\n",
    "\n",
    "# Get the best parameters and the best score\n",
    "best_params = model.best_params_\n",
    "best_score = model.best_score_\n",
    "\n",
    "print(f\"Best Parameters: {best_params}\")\n",
    "print(f\"Best Cross-Validation Score: {best_score}\")\n",
    "\n",
    "# Make predictions on the test set (use the original X_test)\n",
    "y_pred = model.predict(X_test_cleaned)"
   ]
  },
  {
   "cell_type": "code",
   "execution_count": 23,
   "id": "68527f99-adfc-4a74-bc45-60f42052ed54",
   "metadata": {},
   "outputs": [
    {
     "name": "stdout",
     "output_type": "stream",
     "text": [
      "Classification Report:\n",
      "              precision    recall  f1-score   support\n",
      "\n",
      "           2       0.61      0.37      0.46        30\n",
      "           3       0.61      0.81      0.69        31\n",
      "           4       0.15      0.18      0.17        11\n",
      "\n",
      "    accuracy                           0.53        72\n",
      "   macro avg       0.46      0.45      0.44        72\n",
      "weighted avg       0.54      0.53      0.52        72\n",
      "\n",
      "Precision: 54.07%\n",
      "Recall: 52.78%\n",
      "F1 Score: 51.54%\n",
      "Accuracy: 52.78%\n"
     ]
    }
   ],
   "source": [
    "from sklearn.metrics import classification_report, precision_score, recall_score, f1_score\n",
    "\n",
    "# Classification report (which includes precision, recall, and F1 score for each class)\n",
    "print(\"Classification Report:\")\n",
    "print(classification_report(y_test_cleaned, y_pred))\n",
    "\n",
    "# Alternatively, you can calculate precision, recall, and F1 score separately\n",
    "# Calculate accuracy\n",
    "accuracy = accuracy_score(y_test_cleaned, y_pred)\n",
    "precision = precision_score(y_test_cleaned, y_pred, average='weighted')\n",
    "recall = recall_score(y_test_cleaned, y_pred, average='weighted')\n",
    "f1 = f1_score(y_test_cleaned, y_pred, average='weighted')\n",
    "\n",
    "print(f\"Precision: {precision * 100:.2f}%\")\n",
    "print(f\"Recall: {recall * 100:.2f}%\")\n",
    "print(f\"F1 Score: {f1 * 100:.2f}%\")\n",
    "print(f\"Accuracy: {accuracy * 100:.2f}%\")"
   ]
  },
  {
   "cell_type": "code",
   "execution_count": 24,
   "id": "b60ecd2c",
   "metadata": {},
   "outputs": [
    {
     "data": {
      "text/plain": [
       "['trained_model_chatbot.pkl']"
      ]
     },
     "execution_count": 24,
     "metadata": {},
     "output_type": "execute_result"
    }
   ],
   "source": [
    "# Save the trained model\n",
    "joblib.dump(model, 'trained_model_chatbot.pkl')"
   ]
  },
  {
   "cell_type": "code",
   "execution_count": 25,
   "id": "48ba3f50-7593-46e7-8777-91737fff31b1",
   "metadata": {},
   "outputs": [
    {
     "data": {
      "image/png": "[encoded data removed]",
      "text/plain": [
       "<Figure size 800x600 with 1 Axes>"
      ]
     },
     "metadata": {},
     "output_type": "display_data"
    }
   ],
   "source": [
    "from sklearn.metrics import roc_auc_score, roc_curve\n",
    "from sklearn.preprocessing import label_binarize\n",
    "import matplotlib.pyplot as plt\n",
    "\n",
    "# Assuming the classes are 2, 3, 4 (adjust to your class labels)\n",
    "classes = [2, 3, 4]\n",
    "\n",
    "# Binarize the output labels for one-vs-rest ROC calculation\n",
    "y_test_binarized = label_binarize(y_test_cleaned, classes=classes)\n",
    "\n",
    "# Get predicted probabilities\n",
    "y_prob = model.predict_proba(X_test_cleaned)\n",
    "\n",
    "# Initialize a plot for the ROC curves\n",
    "plt.figure(figsize=(8, 6))\n",
    "\n",
    "# Loop through each class to calculate and plot ROC and AUC\n",
    "for i, class_label in enumerate(classes):\n",
    "    # Calculate ROC curve and AUC score for the current class\n",
    "    fpr, tpr, _ = roc_curve(y_test_binarized[:, i], y_prob[:, i])\n",
    "    auc_score = roc_auc_score(y_test_binarized[:, i], y_prob[:, i])\n",
    "    \n",
    "    # Plot the ROC curve\n",
    "    plt.plot(fpr, tpr, label=f'Class {class_label} (AUC = {auc_score:.2f})')\n",
    "\n",
    "# Plot formatting\n",
    "plt.plot([0, 1], [0, 1], color='grey', lw=2, linestyle='--')  # Diagonal line for reference\n",
    "plt.xlim([0.0, 1.0])\n",
    "plt.ylim([0.0, 1.05])\n",
    "plt.xlabel('False Positive Rate')\n",
    "plt.ylabel('True Positive Rate')\n",
    "plt.title('Receiver Operating Characteristic (ROC) Curves')\n",
    "plt.legend(loc=\"lower right\")\n",
    "plt.show()\n"
   ]
  },
  {
   "cell_type": "code",
   "execution_count": 26,
   "id": "316ec097-f407-4943-bf6c-1533eb9b6d04",
   "metadata": {},
   "outputs": [
    {
     "data": {
      "image/png": "[encoded data removed]",
      "text/plain": [
       "<Figure size 640x480 with 2 Axes>"
      ]
     },
     "metadata": {},
     "output_type": "display_data"
    }
   ],
   "source": [
    "# Compute the confusion matrix\n",
    "conf_matrix = confusion_matrix(y_test_cleaned, y_pred)\n",
    "\n",
    "# Display the confusion matrix\n",
    "disp = ConfusionMatrixDisplay(confusion_matrix=conf_matrix, display_labels=model.classes_)\n",
    "disp.plot(cmap=plt.cm.Blues)\n",
    "plt.title('Confusion Matrix')\n",
    "plt.show()"
   ]
  },
  {
   "cell_type": "code",
   "execution_count": 27,
   "id": "4712fbc0-bd27-41e0-bb09-ad2ac734de1a",
   "metadata": {},
   "outputs": [
    {
     "data": {
      "image/png": "[encoded data removed]",
      "text/plain": [
       "<Figure size 800x600 with 1 Axes>"
      ]
     },
     "metadata": {},
     "output_type": "display_data"
    }
   ],
   "source": [
    "from sklearn.metrics import precision_recall_curve, average_precision_score\n",
    "import matplotlib.pyplot as plt\n",
    "\n",
    "# Initialize a plot for the precision-recall curves\n",
    "plt.figure(figsize=(8, 6))\n",
    "\n",
    "# Loop through each class to calculate and plot precision-recall curve and Average Precision (AP) score\n",
    "for i, class_label in enumerate(classes):\n",
    "    # Calculate precision-recall curve and AP score for the current class\n",
    "    precision, recall, _ = precision_recall_curve(y_test_binarized[:, i], y_prob[:, i])\n",
    "    ap_score = average_precision_score(y_test_binarized[:, i], y_prob[:, i])\n",
    "    \n",
    "    # Plot the precision-recall curve\n",
    "    plt.plot(recall, precision, label=f'Class {class_label} (AP = {ap_score:.2f})')\n",
    "\n",
    "# Plot formatting\n",
    "plt.xlabel('Recall')\n",
    "plt.ylabel('Precision')\n",
    "plt.title('Precision-Recall Curves')\n",
    "plt.legend(loc=\"lower left\")\n",
    "plt.show()\n"
   ]
  },
  {
   "cell_type": "code",
   "execution_count": null,
   "id": "1c3917f8",
   "metadata": {},
   "outputs": [],
   "source": []
  },
  {
   "cell_type": "code",
   "execution_count": null,
   "id": "6b814bd5",
   "metadata": {},
   "outputs": [],
   "source": []
  },
  {
   "cell_type": "code",
   "execution_count": 28,
   "id": "d156b924",
   "metadata": {},
   "outputs": [],
   "source": [
    "#Testing on some records of training data"
   ]
  },
  {
   "cell_type": "code",
   "execution_count": 29,
   "id": "3d00eef0",
   "metadata": {},
   "outputs": [
    {
     "name": "stderr",
     "output_type": "stream",
     "text": [
      "<>:7: SyntaxWarning:\n",
      "\n",
      "invalid escape sequence '\\/'\n",
      "\n",
      "<>:9: SyntaxWarning:\n",
      "\n",
      "invalid escape sequence '\\/'\n",
      "\n",
      "<>:13: SyntaxWarning:\n",
      "\n",
      "invalid escape sequence '\\/'\n",
      "\n",
      "<>:17: SyntaxWarning:\n",
      "\n",
      "invalid escape sequence '\\/'\n",
      "\n",
      "<>:19: SyntaxWarning:\n",
      "\n",
      "invalid escape sequence '\\/'\n",
      "\n",
      "<>:19: SyntaxWarning:\n",
      "\n",
      "invalid escape sequence '\\/'\n",
      "\n",
      "<>:7: SyntaxWarning:\n",
      "\n",
      "invalid escape sequence '\\/'\n",
      "\n",
      "<>:9: SyntaxWarning:\n",
      "\n",
      "invalid escape sequence '\\/'\n",
      "\n",
      "<>:13: SyntaxWarning:\n",
      "\n",
      "invalid escape sequence '\\/'\n",
      "\n",
      "<>:17: SyntaxWarning:\n",
      "\n",
      "invalid escape sequence '\\/'\n",
      "\n",
      "<>:19: SyntaxWarning:\n",
      "\n",
      "invalid escape sequence '\\/'\n",
      "\n",
      "<>:19: SyntaxWarning:\n",
      "\n",
      "invalid escape sequence '\\/'\n",
      "\n",
      "C:\\Users\\kirti\\AppData\\Local\\Temp\\ipykernel_19152\\1919133166.py:7: SyntaxWarning:\n",
      "\n",
      "invalid escape sequence '\\/'\n",
      "\n",
      "C:\\Users\\kirti\\AppData\\Local\\Temp\\ipykernel_19152\\1919133166.py:9: SyntaxWarning:\n",
      "\n",
      "invalid escape sequence '\\/'\n",
      "\n",
      "C:\\Users\\kirti\\AppData\\Local\\Temp\\ipykernel_19152\\1919133166.py:13: SyntaxWarning:\n",
      "\n",
      "invalid escape sequence '\\/'\n",
      "\n",
      "C:\\Users\\kirti\\AppData\\Local\\Temp\\ipykernel_19152\\1919133166.py:17: SyntaxWarning:\n",
      "\n",
      "invalid escape sequence '\\/'\n",
      "\n",
      "C:\\Users\\kirti\\AppData\\Local\\Temp\\ipykernel_19152\\1919133166.py:19: SyntaxWarning:\n",
      "\n",
      "invalid escape sequence '\\/'\n",
      "\n",
      "C:\\Users\\kirti\\AppData\\Local\\Temp\\ipykernel_19152\\1919133166.py:19: SyntaxWarning:\n",
      "\n",
      "invalid escape sequence '\\/'\n",
      "\n"
     ]
    }
   ],
   "source": [
    "\n",
    "\n",
    "data = {  \"model_a_test\" :  [\"gpt-3.5-turbo-0613\",\"mixtral-8x7b-instruct-v0.1\",\"gpt-3.5-turbo-0o613\",\"vicuna-13b\",\"vicuna-13b\",\"llama2-70b-steerlm-chat\",\"claude-1\",\"stablelm-tuned-alpha-7b\",\"pplx-70b-online\",\"gpt-4-0613\"],\n",
    "              \"model_b_test\" :   [\"mistral-medium\",\"vicuna-13b\",\"vicuna-13b\",\"koala-13b\",\"claude-instant-1\",\"gpt-4-0125-preview\",\"gpt-4-0314\",\"oasst-pythia-12b\",\"gpt-3.5-turbo-1106\",\"mistral-medium\"],\n",
    "              \"response_a_test\" : [[\"Function calling is the process of invoking or executing a function in a programming language. To call a function, you need to use the function's name followed by parentheses \\\"()\\\". Within the parentheses, you can pass arguments if the function requires any.\\n\\nHere is an example of how to call a function in Python:\\n\\npython\\n# Define a function\\ndef greet(name):\\n    print(\\\"Hello, \\\" + name + \\\"!\\\")\\n\\n# Call the function\\ngreet(\\\"John\\\")\\n\\n\\nIn this example, the function \\\"greet\\\" is defined with a single parameter \\\"name\\\" which is used to print a greeting message. To call the function and pass an argument, we write \\\"greet(\\\"John\\\")\\\". This will execute the function and print \\\"Hello, John!\\\".\\n\\nIt is important to note that the function should be defined before calling it in most programming languages, as the interpreter needs to know about the function's existence before it can be called.\"],\n",
    "                          [\"Water is actually used in a bath tub. A bath tub is specifically designed to be filled with water for the purpose of bathing. You fill the tub with water, add bath salts or bubbles if you like, and then soak in the water to clean your body and relax.\\n\\nIf you are asking why water is not used in a bath tub in the same way that it is used in a swimming pool or a hot tub, there are a few reasons for this. First, bath tubs are much smaller than swimming pools or hot tubs, so they cannot hold as much water. This means that the water in a bath tub can get dirty and contaminated more quickly than the water in a larger body of water.\\n\\nAdditionally, bath tubs are not designed to be continuously filled with water. They are meant to be filled, used for bathing, and then drained. This helps to prevent the buildup of bacteria and other contaminants in the water.\\n\\nFinally, it is important to note that bath tubs are typically used for personal hygiene, and it is generally not recommended to share a bath tub with multiple people due to the risk of spreading germs. In contrast, swimming pools and hot tubs are often used by multiple people at the same time, so they need to be treated with chemicals to kill bacteria and other contaminants.\"],\n",
    "                          [\"\\u0411\\u043e\\u043b\\u044c\\u0448\\u0438\\u0435 \\u0437\\u0435\\u043c\\u043b\\u0435\\u0432\\u043b\\u0430\\u0434\\u0435\\u043b\\u044c\\u0446\\u044b \\u0438\\u0441\\u043f\\u043e\\u043b\\u044c\\u0437\\u043e\\u0432\\u0430\\u043b\\u0438 \\u043f\\u0440\\u043e\\u0433\\u0440\\u0430\\u043c\\u043c\\u043d\\u043e\\u0435 \\u043e\\u0431\\u0435\\u0441\\u043f\\u0435\\u0447\\u0435\\u043d\\u0438\\u0435 \\u0434\\u043b\\u044f \\u0441\\u0433\\u043e\\u0432\\u043e\\u0440\\u0430 \\u0432 \\u043e\\u0442\\u043d\\u043e\\u0448\\u0435\\u043d\\u0438\\u0438 \\u0446\\u0435\\u043d \\u043d\\u0430 \\u0430\\u0440\\u0435\\u043d\\u0434\\u0443, \\u0433\\u043e\\u0432\\u043e\\u0440\\u0438\\u0442 \\u0438\\u0441\\u043a \\u0432 \\u0412\\u0430\\u0448\\u0438\\u043d\\u0433\\u0442\\u043e\\u043d\\u0435.\"],\n",
    "                       [\"Jism ko kisi ka paisa nahi,\\nWo kisi ka jaan nahi rakhta,\\nNahi rakhta tho kisi ka samna,\\nNahi rakhta tho kisi ka ajna.\\n\\nJism ko kisi ka paisa nahi,\\nWo kisi ka jaan nahi rakhta,\\nNahi rakhta tho kisi ka samna,\\nNahi rakhta tho kisi ka ajna.\\n\\nJism ko kisi ka paisa nahi,\\nWo kisi ka jaan nahi rakhta,\\nNahi rakhta tho kisi ka samna,\\nNahi rakhta tho kisi ka ajna.\\n\\nJism ko kisi ka paisa nahi,\\nWo kisi ka jaan nahi rakhta,\\nNahi rakhta tho kisi ka samna,\\nNahi rakhta tho kisi ka ajna.\\n\\nJism ko kisi ka paisa nahi,\\nWo kisi ka jaan nahi rakhta,\\nNahi rakhta tho kisi ka samna,\\nNahi rakhta tho kisi ka ajna.\\n\\nJism ko kisi ka paisa nahi,\\nWo kisi ka jaan nahi rakhta,\\nNahi rakhta tho kisi ka samna,\\nNahi rakhta tho kisi ka ajna.\\n\\nJism ko kisi ka paisa nahi,\\nWo kisi ka jaan nahi rakhta,\\nNahi rakhta tho kisi ka samna,\\nNahi rakhta tho kisi ka ajna.\\n\\nJism ko kisi ka paisa nahi,\\nWo kisi ka jaan nahi rakhta,\\nNahi rakhta tho kisi ka samna,\\nNahi rakhta tho kisi ka ajna.\\n\\nJism ko kisi ka paisa nahi,\\nWo kisi ka jaan nahi rak\"],\n",
    "                       [\"To delete a tun\\/tap device named \\\"kcptun\\\" on a server, you can use the \\\"tunctl\\\" command. Here are the steps to do it:\\n\\n1. First, identify the device name and the network interface that the tun\\/tap device is associated with. You can use the \\\"ip link\\\" command to list all network interfaces on the server. Look for an interface that has an IP address in the 172.16.0.0\\/12 range, which is the range used by kcptun devices.\\n\\nExample:\\n```bash\\n$ ip link\\n1: lo: lo:\\n2: eth0: eth0: gigabit: Intel Corporation 82540M Gigabit Controller [1026:0182] (rev 01)\\n    inet 192.168.1.100  netmask 255.255.255.0  broadcast 192.168.1.255\\n    inet6 fe80::a00:27ff:fe3e:aee3  prefixlen 64  scopeid 0x20<link>\\n    ether 08:00:27:3e:ae:e3  txqueuelen 1000  (Ethernet)\\n    RX packets 11277  bytes 10596884 (1.0 MiB)\\n    RX errors 0  dropped 0  overruns 0  frame 0\\n    TX packets 25707  bytes 6043080 (6.1 MiB)\\n    TX errors 0  dropped 0 overruns 0  carrier 0  collisions 0\\n3: kcptun0: kcptun0: br-634c1f4590a5  txqueuelen 1000  (Tun\\/Tap)\\n    inet 10.244.0.1\\/24  netmask 255.255.255.0  broadcast 10.244.0.255\"],\n",
    "                       [\"The Cypher Query Language is a declarative language used to query and manipulate data in graph databases. It was developed by Neo4j, a popular open-source graph database, and has since become a widely used language in the graph database community.\\n\\nCypher is designed to make it easy to query and traverse the relationships between data points in a graph database. It uses a pattern-matching syntax to describe the relationships between entities, and provides a set of functions and operators to manipulate and transform data.\\n\\nCypher is particularly well-suited to applications where the data can be represented as a graph, such as social networks, transportation networks, and recommendation systems. It provides an intuitive and flexible way to query and analyze these types of data, and can help uncover hidden patterns and insights that might be difficult to discover using traditional relational databases.\\n\\nIn addition to its use in Neo4j, Cypher has also been adopted by other graph databases, including Microsoft's Azure Cosmos DB and Apache Spark's GraphX library. This has helped to establish it as a widely recognized and supported language in the graph database community.\"],\n",
    "                       [\"This is very difficult to estimate precisely given the available data. Here is my rough reasoning:\\n\\n\\u2022 There are approximately 1,000 museums in the U.S. that contain dinosaur fossils or replicas. Not all of these have full skeletons, but many of the major natural history museums do. As a rough guess, if 25-50% of these museums have at least one full dinosaur skeleton, that would suggest there are between 250 to 500 full dinosaur skeletons in U.S. museums.\\n\\n\\u2022 There are also many dinosaur fossils held in university collections that are not on public display. There are hundreds of universities, colleges, and community colleges in the U.S. with geology, paleontology, and natural history programs. If even a small fraction of these have dinosaur skeletons in their collections, that could represent hundreds more specimens.\\n\\n\\u2022 Private collectors also own some number of dinosaur skeletons, though these are not tracked or documented as systematically. There are likely at least a few dozen in private hands.\\n\\n\\u2022 Many dinosaur skeletons are still in the ground, waiting to be discovered. Hundreds of new specimens are discovered each year, though only a fraction of these are complete or well-preserved enough to be museum displays. Over decades and centuries, many more are likely yet to be found.\\n\\nSo putting these factors together, a conservative estimate might be that there are at least 1,000 to 2,000 dinosaur skeletons currently in the U.S., either on display, in museum collections, or in private hands. The true number could be higher, perhaps by a substantial margin. But this provides a sense of the minimum based on the available evidence. Clearly, this is not a high-precision estimate and there are many uncertainties, but I hope this at least outlines the basis for my rough reasoning. Please let me know if you would like me to clarify or expand on any part of this answer.\",\"Estimating the number of stop signs in America is challenging given the lack of comprehensive data. Here is my rough reasoning:\\n\\n\\u2022 There are over 4 million miles of roads in the U.S., including federal highways, state highways, county roads, and local streets. Not all of these roads have stop signs, but many smaller roads and intersections do. If even a small fraction of the total road miles, say 10-25%, have at least one stop sign, that would suggest 400,000 to 1 million miles of roads with stop signs.\\n\\n\\u2022 Most stop signs control smaller residential or neighborhood road intersections. There are tens of millions of local road intersections in the U.S. If 10-30% of these have stop signs, that could amount to 3 million to 9 million stop signs or more. \\n\\n\\u2022 Stop signs are also commonly used in parking lots, driveways, and private roads to control traffic flow. There are hundreds of millions of parking spaces and driveways in the U.S. If a small percentage of these have stop signs, that could represent at least a million or more additional signs.\\n\\n\\u2022 Stop signs need to be regularly replaced as they become damaged, faded, or vandalized. Local governments likely replace at least 10-20% of their stop signs each year, so there are likely millions of new stop signs installed annually across the country. \\n\\n\\u2022 However, not all stop signs are installed or used properly according to traffic standards. Some are installed unnecessarily or in locations where they do not achieve their intended purpose. So the actual number may be somewhat lower than these estimates.\\n\\nPutting this all together, a reasonable estimate for the total number of stop signs currently in use in America could be in the range of 10 million to 30 million or more. But there are many uncertainties in these figures, so treat this as a rough initial estimate. The actual number could be substantially higher or lower. Let me know if you would like me to clarify or expand on any part of this answer.\",\"Estimating the number of lines of code for a midsized company is challenging without more details, but here is my rough reasoning:\\n\\n\\u2022 A \\\"midsized\\\" software company likely has between 100 to 1,000 employees, with a sizable percentage (maybe 25-75%) of those being software engineers or developers. With 50-500 developers, that could represent 10-50 development teams of maybe 5-20 people each.\\n\\n\\u2022 Each development team likely works on several codebases or repositories, maybe 3 to 10 on average. So there are potentially 30-500 distinct codebases, of varying sizes, across the company. \\n\\n\\u2022 The size of a codebase can vary greatly based on factors like:\\n\\n\\u203a Age of the code - Legacy codebases that have been worked on for years or decades often contain more lines of code. Newer codebases usually start smaller.\\n\\n\\u203a Complexity of the software - Simpler web or mobile apps may only be 10s of thousands of lines, while an enterprise system could be 1 million lines or more.\\n\\n\\u203a Programming languages used - Some languages like Java, C++, and C# typically result in more lines of code than languages like Python or Ruby for the same functionality.\\n\\n\\u203a Code conventions - Strict, verbose coding styles can often result in more lines of code than terse, compact styles. \\n\\n\\u2022 As a rough average, a reasonably complex enterprise application (which many midsized companies build and maintain) might contain 100,000 to 1 million lines of code.  Some larger systems could be multimillion lines.\\n\\nPutting this all together, I would conservatively estimate the total lines of code for a midsized software company to be at least 10 million, but potentially 100 million lines of code or more for a company at the larger end of that range, or with a number of complex legacy systems. However, there is a lot of uncertainty in these figures, and the actual number could be substantially higher or lower depending on the details of the company and systems in question.\\n\\nLet me know if you would like me to clarify or expand on any part of this answer. I could provide a more customized estimate if you are able to provide more details about the specific company and codebases.\",\"Estimating the total number of bullets fired in World War II is very difficult given the scale and complexity of the war. However, here is my rough reasoning:\\n\\n\\u2022 There were over 60 million military personnel mobilized during WWII, including over 12 million in the U.S. armed forces alone. If even a small fraction of these troops, say 10-20%, were actively engaged in combat at some point, that would represent 6-12 million combatants.\\n\\n\\u2022 Each of these combatants likely had access to and made use of thousands of rounds of small arms ammunition over the course of the war. If they each fired between 1,000 to 10,000 rounds from rifles, machine guns, pistols, etc. that would represent 6 to 120 billion rounds total. The actual number was probably somewhere in the middle, perhaps 10,000 to 50,000 rounds per combatant, suggesting 60 billion to 600 billion rounds or more from small arms alone.\\n\\n\\u2022 In addition to small arms, WWII saw the widespread use of artillery ranging from light mortars to heavy naval guns. Artillery rounds during major engagements could easily number in the tens or hundreds of thousands per day. Over thousands of days of combat, potentially billions of artillery shells were fired. If 1-10 shells were fired for every small arms round, that could represent another 60 billion to 600 billion rounds.\\n\\n\\u2022 Ammunition for larger weapons like tanks, aircraft-mounted cannons, naval guns, and other heavy weapons also numbered in the billions of rounds combined over the full span of the war. \\n\\n\\u2022 However, not all ammunition was fired at the enemy, as training, accidental discharges, and waste also accounted for a sizable percentage of total rounds produced and shipped. So the actual number fired in combat was likely somewhat lower than these estimates.\\n\\nIn total, I would conservatively estimate that at least 100 billion to 1 trillion or more rounds were fired during WWII between all sides. The actual number is likely within the higher end of this range, if not higher still. But there are many uncertainties, so treat this as a initial rough estimate. Let me know if you would like me to clarify or expand on any part of this answer.\",\"OK, let's estimate this step-by-step:\\n\\n\\u2022 The average dollar bill is about 6.14 inches long or 0.15 meters. \\n\\n\\u2022 The distance from the Earth to the moon is about 238,900 miles or 384,400 kilometers.\\n\\n\\u2022 So we would need (384,400,000 meters \\/ 0.15 meters per bill) = 2.56 billion dollar bills to reach the moon.\\n\\nHowever, there are a few issues with this simple calculation:\\n\\n1. Dollar bills are not perfectly rigid, flat strips. They have some thickness and flexibility, so the actual length of bills attached end-to-end would be greater than just their linear dimensions. I will estimate about 10% extra length to account for this, so 2.81 billion bills.\\n\\n2. The distance between the Earth and moon varies over time due to their elliptical orbits. The moon's orbit can be up to 251,900 miles at its closest (perigee) and up to 252,700 miles at its furthest (apogee). So we need to use an average \\\"mean\\\" distance for our calculation. The exact mean distance varies slightly over time, but around 238,900 miles is a reasonable figure to use.\\n\\n3. The dollar bills would have mass, so as we build up the chain, it would start to sag under its own weight, requiring more bills to reach the same distance. The mass of 2.8 billion bills is not negligible. However, the sag would not be too significant until the higher reaches of the stack, so I will roughly estimate it might require 10% more bills to account for sag, or 3.09 billion bills.\\n\\n4. We would have to attach the bills somehow, and the connections and attachments would also add length. However, since we only need a rough estimate, I will ignore this factor.\\n\\nSo in summary, after accounting for the flexibility, variable distance, and sag under the weight of the bills, a reasonable estimate is that it would take between 3 to 3.5 billion dollar bills attached end-to-end to reach the average distance from the Earth to the moon. Let me know if you would like me to clarify or expand on any part of this answer.\"],\n",
    "                       [\"Anguilla is the larger of the two, with more to see, and is also more developed.\"],\n",
    "                       [\"The question of why the philosopher stopped laughing is not directly related to the ontological question of why anything exists. However, the story of the three Greek philosophers discussing the Fundamental Ontological Question provides a humorous anecdote that can be interpreted in various ways.\\n\\nOne possible interpretation is that the philosophers, after a lengthy discussion, realized the futility of their pursuit and were reminded of their human limitations. This realization led to the owls dropping their \\\"presents\\\" on the philosophers' foreheads, which in turn awakened them. The hoot of the owls might have startled them, causing them to laugh simultaneously. One philosopher stopped laughing because he realized the absurdity of their situation: they were attempting to answer an unanswerable question while being subject to the same physical and biological constraints as other living beings. This realization might have led him to stop laughing and reflect on the nature of their existence and the limitations of their philosophical pursuits.\",\"The scenario you described involves a group of philosophers and their thoughts on laughter. However, the search results provided do not directly address the specific situation you mentioned. Nonetheless, some philosophers are known for their thoughts on laughter and humor, such as Democritus, who was nicknamed the \\\"laughing philosopher\\\", and Henri Bergson, who wrote an essay on the meaning of the comic. Other philosophers, like Nietzsche, also discussed laughter in the context of their philosophy.\"],\n",
    "                       [\"1. Cultural: A new art movement, called \\\"Neo-Techism,\\\" emerges, blending traditional art styles with evolving technology, such as AR and VR. It gains quick popularity and is embraced globally, significantly impacting the art world.\\n\\n2. Social: As a response to the ongoing digital revolution, a significant portion of the world's population begins to adopt a \\\"digital minimalism\\\" lifestyle, forming communities that limit their use of technology. This movement gains momentum and significantly influences the tech industry, prompting companies to create products promoting balance between digital and non-digital life.\\n\\n3. Political: A surprising coalition forms between several major and minor political parties in the United States, breaking the longstanding two-party dominance. This leads to a major political reform, introducing a multi-party system that changes the dynamics of the 2024 presidential election. \\n\\n4. Cultural: In a surprising twist, Hollywood decides to halt the production of superhero films, citing over-saturation of the market. Instead, they shift focus towards producing films that emphasize on human resilience and real-life heroes.\\n\\n5. Social: With the increase in climate change awareness and the popularity of plant-based diets, a new social movement called \\\"Eco-Cuisine\\\" becomes a trend. It advocates for sustainable eating habits, which includes not just plant-based diets but also using food technology to create synthetic but eco-friendly food.\\n\\n6. Political: A country, previously not known for its tech advancements, emerges as a new global leader in AI and robotics. This unexpected shift significantly changes the political landscape, forcing other countries to rethink their strategic alliances and policies.\"]],\n",
    "            \"response_b_test\" : [[\"Function calling is the process of invoking a function in a program. A function is a block of code that performs a specific task and can be reused multiple times in a program. Functions help to organize and modularize code, making it more readable and maintainable.\\n\\nTo call a function, you simply write the name of the function followed by parentheses () containing any arguments or parameters that the function requires. Here's an example:\\n\\nfunction greet(name) {\\n  console.log(\\\"Hello, \\\" + name);\\n}\\n\\n\\/\\/ Call the greet function and pass in the argument \\\"Alice\\\"\\ngreet(\\\"Alice\\\");\\n\\nIn the example above, the function greet takes one parameter, name, which is used inside the function to print a greeting message. To call the function, we write the name of the function (greet) followed by parentheses containing the argument \\\"Alice\\\". When the function is called, the argument \\\"Alice\\\" is passed to the function, where it is assigned to the name parameter. The function then uses the name parameter to print the greeting message \\\"Hello, Alice\\\".\\n\\nFunctions can also return values, which can be assigned to variables or used in expressions. For example:\\n\\nfunction addNumbers(a, b) {\\n  return a + b;\\n}\\n\\n\\/\\/ Call the addNumbers function and assign the result to the variable sum\\nvar sum = addNumbers(3, 5);\\nconsole.log(sum); \\/\\/ Output: 8\\n\\nIn the example above, the function addNumbers takes two parameters, a and b, adds them together, and returns the result. To call the function, we write the name of the function (addNumbers) followed by parentheses containing the arguments 3 and 5. The function calculates the sum of the two arguments (3 + 5 = 8) and returns the result (8). We then assign the result to the variable sum and print it to the console.\"],\n",
    "                       [\"Water is not used in a bath tub because it is not a suitable medium for conducting electricity. In a bathtub, the water is used for soaking and cleaning the body, and it is not intended to be used as a conductor of electricity. Additionally, water is a poor conductor of electricity, which means that it would not be able to carry the electrical current required to power the water heater elements in the bathtub.\\n\\nIn order to provide hot water for a bathtub, a separate water heater is typically used. This water heater is designed to heat the water to the desired temperature and deliver it to the bathtub through a dedicated hot water supply line. The water heater elements are typically located inside the water heater, and they are not exposed to the water in the bathtub. This keeps the water in the bathtub clean and free from any potential electrical hazards.\\n\\nOverall, the use of water in a bathtub is not practical or safe for powering electric elements. Instead, a dedicated water heater is used to provide hot water for the tub.\"],\n",
    "                       [\"\\u0411\\u043e\\u043b\\u044c\\u0448\\u0438\\u0435 \\u0441\\u043e\\u0431\\u0441\\u0442\\u0432\\u0435\\u043d\\u043d\\u0438\\u043a\\u0438 \\u043d\\u0435\\u0434\\u0432\\u0438\\u0436\\u0438\\u043c\\u043e\\u0441\\u0442\\u0438 \\u0438\\u0441\\u043f\\u043e\\u043b\\u044c\\u0437\\u043e\\u0432\\u0430\\u043b\\u0438 \\u043f\\u0440\\u043e\\u0433\\u0440\\u0430\\u043c\\u043c\\u043d\\u043e\\u0435 \\u043e\\u0431\\u0435\\u0441\\u043f\\u0435\\u0447\\u0435\\u043d\\u0438\\u0435 \\u0434\\u043b\\u044f \\u0441\\u0433\\u043e\\u0432\\u043e\\u0440\\u0430 \\u043f\\u043e \\u0446\\u0435\\u043d\\u0435 \\u0430\\u0440\\u0435\\u043d\\u0434\\u044b, \\u0433\\u043e\\u0432\\u043e\\u0440\\u0438\\u0442 \\u0438\\u0441\\u043a \\u0432 \\u0412\\u0430\\u0448\\u0438\\u043d\\u0433\\u0442\\u043e\\u043d\\u0435.\"],\n",
    "                       [\"In the realm of selflessness dwells the true believer\\n\\nWhere the heart is pure, the mind is clear\\n\\nThe selfless one walks with grace and poise\\n\\nThrough life's trials and tribulations\\n\\nThe selfless one stands tall and resolute\\n\\nFor true selflessness is the key to greatness\\n\\nIt is the path to eternity\\n\\nFor the selfless one is free from the burden of self\\n\\nAnd finds true peace and happiness within.\"],\n",
    "                       [\"To delete kcptun on a server, follow these steps:\\n\\n1. Stop the kcptun service:\\n\\nbash\\nsystemctl stop kcptun\\n\\n\\n2. Remove the kcptun service:\\n\\nbash\\nsystemctl disable kcptun\\nsystemctl disable --now kcptun\\n\\n\\n3. Delete the kcptun configuration file:\\n\\nbash \\nrm -f \\/etc\\/kcptun\\/server.json\\n\\n\\n4. Delete the kcptun binary:\\n\\nbash\\nrm -f \\/usr\\/bin\\/kcptun \\n\\n\\n5. Delete any leftover kcptun files and directories:\\n\\nbash\\nrm -rf \\/etc\\/kcptun\\nrm -rf \\/var\\/log\\/kcptun\\n\\n\\n6. Remove kcptun from the init system:\\n\\nFor systemd:\\nbash\\nrm -f \\/lib\\/systemd\\/system\\/kcptun.service\\n \\n\\nFor openrc: \\nbash\\nrm -f \\/etc\\/init.d\\/kcptun\\n\\n\\nThat will completely remove kcptun and any configuration from your server. You'll need to repeat the process on any client machines that were connecting to this kcptun server.\\n\\nHope this helps! Let me know if you have any other questions.\"],\n",
    "                       [\"Certainly! The Cypher Query Language, often simply referred to as Cypher, is a declarative query language created by Neo4j for its graph database. It is designed to be intuitive and easy to learn, drawing upon familiar SQL-like syntax but tailored specifically for querying and manipulating graph data structures. Graph databases are designed to store and navigate relationships efficiently and are particularly well-suited for dealing with connected data, such as social networks, recommendation systems, and network analysis.\\n\\nCypher focuses on the simplicity of graph patterns to express what data to retrieve or how to modify data within the graph. The language allows you to state what you want to select, insert, update, or delete in the graph database without requiring you to describe exactly how to do it, making it a high-level, declarative language.\\n\\nKey Concepts and Features of Cypher:\\n\\n1. *Nodes and Relationships: In Cypher, data is represented as nodes (entities) and relationships (the connections between entities). Nodes can have labels to categorize them and properties as key-value pairs. Relationships are directional and also can have properties.\\n\\n2. **Pattern Matching: One of the core features of Cypher is its ability to easily match patterns within the graph. This is used both for querying data by finding specific shapes or structures in the graph and for creating or modifying data.\\n\\n3. **Cypher Syntax*: The syntax of Cypher is reminiscent of ASCII art; it visually represents the graph patterns. For example, (a:Person)-[:KNOWS]->(b:Person) could represent a pattern where a person a knows another person b. Here, :Person is a label indicating the node is a person, and [:KNOWS] represents a relationship of type \\\"KNOWS\\\" between them.\\n\\n4. *CRUD Operations*: Cypher supports creating, reading, updating, and deleting data within a Neo4j database through its syntax. For instance, CREATE, MATCH, MERGE, SET, DELETE, and REMOVE are some of the key operations.\\n\\n5. *Aggregation, Ordering, and Functions: Cypher provides capabilities for aggregating data, ordering results, and applying functions for data transformation and analysis, similar to SQL.\\n\\n6. **Parameters*: Cypher supports the use of parameters in queries, which helps in writing more efficient and secure queries.\\n\\nCypher has been influential in the development of property graph query languages, contributing to the creation of open standards for graph databases. Its approachability and expressive power make it a popular choice for developers working with graph databases to model complex, connected data in various domains.\"],\n",
    "                       [\"Estimating the exact number of dinosaur skeletons in the United States is challenging due to the continuous discoveries and excavations of new specimens. However, I can provide a rough estimate based on some available information.\\n\\nThere are more than 1,500 accredited museums in the United States, and many of these museums have natural history collections that may include dinosaur skeletons or partial specimens. However, not all museums will have dinosaur skeletons, and some may have only a few or even just one specimen. Additionally, some dinosaur skeletons may be held at private collections, research institutions, or universities. \\n\\nAssuming that around 20% of these museums have dinosaur skeletons, and each of those museums has an average of 5 dinosaur skeletons, we can estimate the number of dinosaur skeletons in the United States as follows:\\n\\n1,500 museums * 20% = 300 museums with dinosaur skeletons\\n300 museums * 5 skeletons per museum = 1,500 dinosaur skeletons\\n\\nThis estimate of 1,500 dinosaur skeletons in the United States is a rough approximation and should be taken with a grain of caution. The actual number may vary significantly depending on many factors, such as the number of skeletons held in private collections or research institutions, and the rate of new discoveries in the field of paleontology.\",\"Estimating the number of stop signs in the United States is challenging, as the number will depend on various factors such as population density, road infrastructure, and urban planning regulations. However, I can provide a rough estimation based on some assumptions.\\n\\nAccording to the Federal Highway Administration, there are approximately 4.18 million miles of roads in the United States. Let's assume that on average, there is one stop sign per every 0.25 mile (equivalent to 1,320 feet) in urban and suburban areas, while in rural areas, there is one stop sign per every 1 mile. \\n\\nApproximately 19% of the total land area in the United States is considered urban, while the remaining 81% is rural. Therefore, we can estimate the number of stop signs in urban and rural areas separately and then add them up:\\n\\nUrban roads: 4.18 million miles * 19% = 794,200 miles\\nRural roads: 4.18 million miles * 81% = 3,385,800 miles\\n\\nUrban stop signs: 794,200 miles * (1 stop sign \\/ 0.25 mile) = 3,176,800 stop signs\\nRural stop signs: 3,385,800 miles * (1 stop sign \\/ 1 mile) = 3,385,800 stop signs\\n\\nTotal stop signs: 3,176,800 (urban) + 3,385,800 (rural) = 6,562,600 stop signs\\n\\nThis rough estimate suggests there are about 6.56 million stop signs in the United States. However, it's important to note that this estimation is based on assumptions and may not be entirely accurate. The actual number may vary depending on factors such as local traffic regulations, road conditions, and regional differences in urban planning.\",\"Estimating the number of lines of code in a codebase for a mid-sized company that hires software engineers can vary significantly depending on the company's industry, the complexity of the software, and the number of software applications they maintain.\\n\\nAs a rough estimate, let's consider a mid-sized company with 50-200 software engineers. Typically, software engineers work on multiple projects with varying complexity. A single software engineer might write anywhere from 100 to 1,000 lines of code per day, depending on the task and level of experience. However, not all lines of code written will end up in the final codebase, as some will be refactored, optimized, or removed over time.\\n\\nLet's assume that, on average, each software engineer contributes a net of 5,000 lines of code per year to the company's codebase. \\n\\nFor a mid-sized company with 100 software engineers (as an example), the annual contribution to the codebase would be:\\n\\n100 software engineers * 5,000 lines of code per engineer per year = 500,000 lines of code per year\\n\\nNow, let's assume that the company has been in operation for 10 years and has been maintaining and growing its codebase during that time. In this scenario, the total number of lines of code in the codebase would be:\\n\\n500,000 lines of code per year * 10 years = 5,000,000 lines of code\\n\\nSo, a rough estimate for the number of lines of code in a mid-sized company's codebase with 100 software engineers and 10 years of operation would be around 5 million lines of code. Keep in mind that this is a rough estimate and the actual number of lines of code can vary greatly depending on factors such as the complexity of the software, the number of software applications, and the company's industry.\",\"Estimating the total number of bullets fired during World War II is challenging due to the lack of detailed records and the immense scale of the conflict. However, we can attempt to provide a rough estimate based on some assumptions.\\n\\nWorld War II lasted from 1939 to 1945 and involved more than 100 million people from over 30 countries. The major participants included the Allies (United States, Soviet Union, United Kingdom, China, and others) and the Axis powers (Germany, Italy, and Japan). Millions of soldiers were involved in various combat situations during the war, such as infantry battles, tank skirmishes, and air raids.\\n\\nAssuming, on average, each soldier fired 100 bullets per month (which is a conservative estimate considering the intensity of some battles), we can estimate the number of bullets fired per soldier:\\n\\n100 bullets per month * 12 months * 6 years = 7,200 bullets per soldier\\n\\nEstimating the total number of soldiers who served during the war is difficult. However, let's assume that approximately 50 million soldiers participated in combat during the war, considering that the total number of people involved in the war was over 100 million.\\n\\nTo estimate the total number of bullets fired, we can multiply the number of bullets fired per soldier by the estimated number of soldiers:\\n\\n50,000,000 soldiers * 7,200 bullets per soldier = 360,000,000,000 bullets\\n\\nThis rough estimate suggests that around 360 billion bullets were fired during World War II. However, it's important to note that this estimation is based on assumptions and may not be entirely accurate. The actual number could be higher or lower depending on factors such as the intensity of battles, the number of soldiers involved in combat, and the availability of ammunition.\",\"To estimate how many dollar bills it would take to reach the moon when attached end to end, we need to know the dimensions of a dollar bill and the average distance from the Earth to the Moon.\\n\\nA U.S. dollar bill is approximately 6.14 inches (15.6 cm) long. The average distance from the Earth to the Moon is about 238,900 miles (384,400 kilometers).\\n\\nFirst, let's convert the distance to the Moon from miles to inches:\\n238,900 miles * 5,280 feet per mile * 12 inches per foot = 1,513,011,200 inches\\n\\nNow, we can calculate the number of dollar bills needed to cover this distance:\\n1,513,011,200 inches \\/ 6.14 inches per dollar bill \\u2248 246,348,540 dollar bills\\n\\nSo, it would take approximately 246,348,540 dollar bills placed end to end to reach the Moon. Keep in mind that this estimation is based on the average distance to the Moon, which can vary slightly due to the elliptical shape of the Moon's orbit around the Earth.\"],\n",
    "                      [\"It depends on personal preference and what you're looking for in your vacation. Anguilla is known for its stunning beaches and vibrant culture, while Saba has a unique history and natural beauty. Both islands offer a variety of activities and experiences, so it's up to you to decide which one fits your needs best.\"],\n",
    "                      [\"One of the philosophers abruptly stopped laughing because he realized that he had owl droppings on his forehead.\",\"Ah, I see. It seems that the smartest philosopher realized that if he had nothing on his head, then the second smartest philosopher, who would have seen the third smartest philosopher laughing at the second smartest, would have stopped laughing. Therefore, the smartest philosopher must have realized that he had something on his head, causing him to abruptly stop laughing. Thank you for sharing this interesting riddle with me!\"],\n",
    "                      [\"1. The rise of \\\"slow media\\\": As a backlash against the constant barrage of news and information, a new movement called \\\"slow media\\\" will emerge. This will involve people subscribing to curated newsletters that summarize the most important events of the week or month, rather than trying to keep up with real-time updates.\\n2. The decline of traditional political parties: In the 2024 elections, a record number of independent candidates will be elected to office, as voters become increasingly disillusioned with the two-party system. This will lead to a more diverse and representative government, but also one that is more difficult to manage.\\n3. The resurgence of physical books: Despite the continued popularity of e-books and audiobooks, there will be a renewed interest in physical books as objects of beauty and nostalgia. This will lead to a boom in independent bookstores and small presses, as well as a new appreciation for the art of bookbinding and typography.\\n4. The rise of \\\"empathy tourism\\\": In an effort to promote cross-cultural understanding and combat prejudice, a new trend called \\\"empathy tourism\\\" will emerge. This will involve travelers spending extended periods of time living and working with local communities in order to gain a deeper understanding of their culture and way of life.\\n5. The decline of social media influencers: As consumers become more skeptical of sponsored content and influencer marketing, the power and influence of social media celebrities will begin to wane. Brands will shift their focus towards more authentic forms of advertising, such as user-generated content and word-of-mouth marketing.\\n6. The rise of virtual reality therapy: Virtual reality technology will be increasingly used in the field of mental health, as a way to treat conditions such as anxiety, depression, and PTSD. Patients will be able to immerse themselves in realistic, simulated environments that can help them confront their fears and develop coping strategies.\\n7. The decline of the gig economy: As the drawbacks of the gig economy become more apparent (such as lack of job security and benefits), there will be a push for more regulation and protections for workers. This will lead to a shift towards more traditional employment models, with companies offering full-time positions and benefits to their employees.\\n8. The rise of eco-communities: In response to the ongoing climate crisis, people will begin to form intentional communities focused on sustainable living and reducing their carbon footprint. These eco-communities will feature shared resources, such as communal gardens and renewable energy systems, and will prioritize local food production and waste reduction.\\n9. The decline of celebrity culture: As the line between celebrity and influencer becomes increasingly blurred, and as consumers become more interested in authenticity and substance, the cult of celebrity will begin to fade. People will be less interested in following the lives of the rich and famous, and more interested in learning about real people who are making a difference in their communities.\\n10. The rise of decentralized governance: As trust in traditional institutions continues to erode, people will begin to experiment with new forms of governance that are more decentralized and participatory. This could involve using blockchain technology to create secure, transparent voting systems, or using online platforms to facilitate direct democracy and community decision-making.\"]],\n",
    "            \"prompt_test\" : [[\"explain function calling. how would you call a function?\"],\n",
    "                    [\"Why water is not used in bath tub?\"],\n",
    "                    [\"translate to russian the followig sentence  Big landlords used software to collude on rent prices, DC lawsuit says\"],\n",
    "                    [\"Write me a poem in urdu in the style of Iqbal on selflessness\"],\n",
    "                    [\"how to delete kcptun on server?\"],\n",
    "                    [\"Can you explain what the Cypher Query Language is?\"],\n",
    "                    [\"Estimate the number of dinosaur skeletons in the United States and explain your reasoning.\",\"Estimate the number of stop signs in America\",\"Estimate the number of lines in a codebase of a midsized company that hires software engineers\",\"Estimate the number of bullets fired in WWII\",\"How many dollar bills would it take to reach to the moon if you attached each dollar bill end to end?\"],\n",
    "                    [\"Which is better to visit, Anguilla or Saba?\"],\n",
    "                    [\"One day three Greek philosophers settled under the shade of an olive tree, opened a bottle of Retsina, and began a lengthy discussion of the Fundamental Ontological Question: Why does anything exist?\\n\\nAfter a while, they began to ramble. Then, one by one, they fell asleep.\\n\\nWhile the men slept, three owls, one above each philosopher, completed their digestive process, dropped a present on each philosopher's forehead, the flew off with a noisy \\\"hoot.\\\"\\n\\nPerhaps the hoot awakened the philosophers. As soon as they looked at each other, all three began, simultaneously, to laugh. Then, one of them abruptly stopped laughing. Why?\",\"If he (the smartest philosopher) had nothing on his head, then he realized that the second smartest philosopher would have quickly worked out that the third smartest was laughing only at the second smartest philosopher, and thus the second smartest philosopher would have stopped laughing.\\n\"],\n",
    "                    [\"Make specific unlikely predictions for cultural, social or political events that could occur in 2024.\"],\n",
    "                    ]\n",
    "            }"
   ]
  },
  {
   "cell_type": "code",
   "execution_count": 30,
   "id": "4cd59441",
   "metadata": {},
   "outputs": [],
   "source": [
    "train_test = pd.DataFrame.from_dict(data)\n"
   ]
  },
  {
   "cell_type": "code",
   "execution_count": 31,
   "id": "f86beffb",
   "metadata": {},
   "outputs": [],
   "source": [
    "#Preprocessing the data\n",
    "\n",
    "def preprocess_text(text):\n",
    "    # If the input is a list, join it into a single string\n",
    "    if isinstance(text, list):\n",
    "        text = ' '.join(text)\n",
    "    \n",
    "    # Convert to lowercase\n",
    "    text = text.lower()\n",
    "    \n",
    "    # Remove punctuation\n",
    "    text = text.translate(str.maketrans('', '', string.punctuation))\n",
    "    \n",
    "     # Tokenize\n",
    "    tokens = word_tokenize(text)\n",
    "    \n",
    "   # Remove stop words\n",
    "    stop_words = set(stopwords.words('english'))\n",
    "    tokens = [word for word in tokens if word not in stop_words]\n",
    "    \n",
    "    # Stemming\n",
    "    stemmer = PorterStemmer()\n",
    "    tokens = [stemmer.stem(word) for word in tokens]\n",
    "\n",
    "    return ' '.join(tokens) \n",
    "\n",
    "train_test['prompt_test'] = train_test['prompt_test'].apply(preprocess_text)\n",
    "train_test['response_a_test'] = train_test['response_a_test'].apply(preprocess_text)\n",
    "train_test['response_b_test'] = train_test['response_b_test'].apply(preprocess_text)\n",
    "train_test['model_a_test'] = train_test['model_a_test'].apply(preprocess_text)\n",
    "train_test['model_b_test'] = train_test['model_b_test'].apply(preprocess_text)"
   ]
  },
  {
   "cell_type": "code",
   "execution_count": 32,
   "id": "73c0d091",
   "metadata": {},
   "outputs": [],
   "source": [
    "# Initialize the tokenizer for prompts_test\n",
    "\n",
    "train_test['prompt_test'] = train_test['prompt_test'].astype(str)\n",
    "tokenizer_prompt_test = Tokenizer()\n",
    "\n",
    "# Fit the tokenizer on your texts\n",
    "tokenizer_prompt_test.fit_on_texts(train_test['prompt_test'].values)\n",
    "\n",
    "# Convert texts to sequences of integers\n",
    "train_test['prompt_test'] = tokenizer_prompt_test.texts_to_sequences(train_test['prompt_test'].values)"
   ]
  },
  {
   "cell_type": "code",
   "execution_count": 33,
   "id": "3a3c0755",
   "metadata": {},
   "outputs": [],
   "source": [
    "# Initialize the tokenizer for response_a_test\n",
    "\n",
    "train_test['response_a_test'] = train_test['response_a_test'].astype(str)\n",
    "tokenizer_a_test = Tokenizer()\n",
    "\n",
    "# Fit the tokenizer on your texts\n",
    "tokenizer_a_test.fit_on_texts(train_test['response_a_test'].values)\n",
    "\n",
    "# Convert texts to sequences of integers\n",
    "train_test['response_a_test'] = tokenizer_a_test.texts_to_sequences(train_test['response_a_test'].values)"
   ]
  },
  {
   "cell_type": "code",
   "execution_count": 34,
   "id": "6272506b",
   "metadata": {},
   "outputs": [],
   "source": [
    "# Initialize the tokenizer for response_b_test\n",
    "\n",
    "train_test['response_b_test'] = train_test['response_b_test'].astype(str)\n",
    "tokenizer_b_test = Tokenizer()\n",
    "\n",
    "# Fit the tokenizer on your texts\n",
    "tokenizer_b_test.fit_on_texts(train_test['response_b_test'].values)\n",
    "\n",
    "# Convert texts to sequences of integers\n",
    "train_test['response_b_test'] = tokenizer_b_test.texts_to_sequences(train_test['response_b_test'].values)\n"
   ]
  },
  {
   "cell_type": "code",
   "execution_count": 35,
   "id": "18e0f2a4",
   "metadata": {},
   "outputs": [],
   "source": [
    "#Initialize the tokenizer for model_a_test\n",
    "\n",
    "\n",
    "train_test['model_a_test'] = train_test['model_a_test'].astype(str)\n",
    "tokenizer_b_test = Tokenizer()\n",
    "\n",
    " #Fit the tokenizer on your texts\n",
    "tokenizer_b_test.fit_on_texts(train_test['model_a_test'].values)\n",
    "\n",
    "# Convert texts to sequences of integers\n",
    "train_test['model_a_test'] = tokenizer_b_test.texts_to_sequences(train_test['model_a_test'].values)"
   ]
  },
  {
   "cell_type": "code",
   "execution_count": 36,
   "id": "c35397cd",
   "metadata": {},
   "outputs": [],
   "source": [
    "# Initialize the tokenizer for model_b_test\n",
    "\n",
    "train_test['model_b_test'] = train_test['model_b_test'].astype(str)\n",
    "tokenizer_b_test = Tokenizer()\n",
    "\n",
    "# Fit the tokenizer on your texts\n",
    "tokenizer_b_test.fit_on_texts(train_test['model_b_test'].values)\n",
    "\n",
    "# Convert texts to sequences of integers\n",
    "train_test['model_b_test'] = tokenizer_b_test.texts_to_sequences(train_test['model_b_test'].values)"
   ]
  },
  {
   "cell_type": "code",
   "execution_count": 37,
   "id": "fd6e0d5a",
   "metadata": {},
   "outputs": [
    {
     "name": "stdout",
     "output_type": "stream",
     "text": [
      "[<class 'list'>]\n",
      "[<class 'list'>]\n"
     ]
    }
   ],
   "source": [
    "# Inspect the data to identify non-iterable values\n",
    "print(train_test['prompt_test'].apply(lambda x: type(x)).unique())  # Check types in 'prompt' column\n",
    "print(train_test['response_a_test'].apply(lambda x: type(x)).unique())  # Check types in 'response_a' column\n",
    "\n",
    "train_test['prompt_test'] = train_test['prompt_test'].apply(lambda x: [x] if isinstance(x, int) else x)\n",
    "train_test['response_a_test'] = train_test['response_a_test'].apply(lambda x: [x] if isinstance(x, int) else x)"
   ]
  },
  {
   "cell_type": "code",
   "execution_count": 38,
   "id": "f25d295a",
   "metadata": {},
   "outputs": [],
   "source": [
    "# Define the maximum length of sequences (you can adjust this as needed)\n",
    "max_sequence_length = 250\n",
    "\n",
    "# Pad sequences to ensure consistent input size\n",
    "train_test['prompt_test'] = pad_sequences(train_test['prompt_test'].values, maxlen=max_sequence_length)\n",
    "train_test['response_a_test'] = pad_sequences(train_test['response_a_test'].values, maxlen=max_sequence_length)\n",
    "train_test['response_b_test'] = pad_sequences(train_test['response_b_test'].values, maxlen=max_sequence_length)\n",
    "train_test['model_a_test'] = pad_sequences(train_test['model_a_test'].values, maxlen=max_sequence_length)\n",
    "train_test['model_b_test'] = pad_sequences(train_test['model_b_test'].values, maxlen=max_sequence_length)\n",
    "\n",
    "#For models like Random Forest: After padding, the sequences are ready to be used as feature vectors directly."
   ]
  },
  {
   "cell_type": "code",
   "execution_count": 39,
   "id": "d9638398",
   "metadata": {},
   "outputs": [
    {
     "name": "stdout",
     "output_type": "stream",
     "text": [
      "Shape of X_train_test: (10, 5)\n"
     ]
    }
   ],
   "source": [
    "# Convert features to numpy arrays and ensure proper shape\n",
    "X_prompt_test = np.array(train_test['prompt_test'].tolist()).reshape(-1, 1)\n",
    "X_response_a_test = np.array(train_test['response_a_test'].tolist()).reshape(-1, 1)\n",
    "X_response_b_test = np.array(train_test['response_b_test'].tolist()).reshape(-1, 1)\n",
    "X_model_a_test = np.array(train_test['model_a_test'].tolist()).reshape(-1, 1)\n",
    "X_model_b_test = np.array(train_test['model_b_test'].tolist()).reshape(-1, 1)\n",
    "\n",
    "# Combine all feature arrays horizontally\n",
    "X_train_test = np.hstack([X_prompt_test, X_response_a_test, X_response_b_test, X_model_a_test, X_model_b_test])\n",
    "\n",
    "# Check the shape of X\n",
    "print(f\"Shape of X_train_test: {X_train_test.shape}\")\n"
   ]
  },
  {
   "cell_type": "code",
   "execution_count": 40,
   "id": "3e48d349",
   "metadata": {},
   "outputs": [
    {
     "name": "stdout",
     "output_type": "stream",
     "text": [
      "[4 4 4 4 4 4 4 4 4 3]\n"
     ]
    }
   ],
   "source": [
    "y_result =  model.predict(X_train_test) \n",
    "print(y_result)"
   ]
  },
  {
   "cell_type": "code",
   "execution_count": null,
   "id": "5b6a564a",
   "metadata": {},
   "outputs": [],
   "source": []
  },
  {
   "cell_type": "code",
   "execution_count": null,
   "id": "582c8d70",
   "metadata": {},
   "outputs": [],
   "source": []
  },
  {
   "cell_type": "code",
   "execution_count": null,
   "id": "9307f23a",
   "metadata": {},
   "outputs": [],
   "source": []
  },
  {
   "cell_type": "code",
   "execution_count": 41,
   "id": "968b82d1",
   "metadata": {},
   "outputs": [],
   "source": [
    "#TESTING THE MODEL WITH UNSEEN DATA"
   ]
  },
  {
   "cell_type": "code",
   "execution_count": 42,
   "id": "eb90092c",
   "metadata": {},
   "outputs": [],
   "source": [
    "dataset_totest = pd.read_csv(r\"C:\\Users\\kirti\\Downloads\\train.csv\", on_bad_lines='skip')\n",
    "df_totest = pd.DataFrame(dataset_totest)"
   ]
  },
  {
   "cell_type": "code",
   "execution_count": 43,
   "id": "eb3c4655",
   "metadata": {},
   "outputs": [
    {
     "name": "stdout",
     "output_type": "stream",
     "text": [
      "               id             model_a              model_b  \\\n",
      "0           30192  gpt-4-1106-preview           gpt-4-0613   \n",
      "1           53567           koala-13b           gpt-4-0613   \n",
      "2           65089  gpt-3.5-turbo-0613       mistral-medium   \n",
      "3           96401    llama-2-13b-chat  mistral-7b-instruct   \n",
      "4          198779           koala-13b   gpt-3.5-turbo-0314   \n",
      "...           ...                 ...                  ...   \n",
      "57472  4294656694          gpt-4-0613             claude-1   \n",
      "57473  4294692063          claude-2.0     llama-2-13b-chat   \n",
      "57474  4294710549            claude-1           alpaca-13b   \n",
      "57475  4294899228              palm-2       tulu-2-dpo-70b   \n",
      "57476  4294947231  gemini-pro-dev-api   gpt-4-1106-preview   \n",
      "\n",
      "                                                  prompt  \\\n",
      "0      [\"Is it morally right to try to have a certain...   \n",
      "1      [\"What is the difference between marriage lice...   \n",
      "2      [\"explain function calling. how would you call...   \n",
      "3      [\"How can I create a test set for a very rare ...   \n",
      "4      [\"What is the best way to travel from Tel-Aviv...   \n",
      "...                                                  ...   \n",
      "57472  [\"A simple mnemonic for \\u03c0:\\n\\\"How I wish ...   \n",
      "57473  [\"In python, implement a naive Bayes with gaus...   \n",
      "57474  [\"is it unethical to work on building weapons?...   \n",
      "57475  [\"If a bait contains 0,0025% bromadiolon then ...   \n",
      "57476  [\"three kids eat three apples in three days, h...   \n",
      "\n",
      "                                              response_a  \\\n",
      "0      [\"The question of whether it is morally right ...   \n",
      "1      [\"A marriage license is a legal document that ...   \n",
      "2      [\"Function calling is the process of invoking ...   \n",
      "3      [\"Creating a test set for a very rare category...   \n",
      "4      [\"The best way to travel from Tel Aviv to Jeru...   \n",
      "...                                                  ...   \n",
      "57472  [\"Sure, let's break it down:\\n\\n1. \\\"How\\\" has...   \n",
      "57473  [\"Here is an implementation of a naive Bayes c...   \n",
      "57474  [\"Working on weapons technology raises some et...   \n",
      "57475  [\"Bromadiolone is a rodenticide which is most ...   \n",
      "57476                                      [\"27 apples\"]   \n",
      "\n",
      "                                              response_b  winner_model_a  \\\n",
      "0      [\"As an AI, I don't have personal beliefs or o...               1   \n",
      "1      [\"A marriage license and a marriage certificat...               0   \n",
      "2      [\"Function calling is the process of invoking ...               0   \n",
      "3      [\"When building a classifier for a very rare c...               1   \n",
      "4      [\"The best way to travel from Tel-Aviv to Jeru...               0   \n",
      "...                                                  ...             ...   \n",
      "57472  [\"Here is how that mnemonic represents the dig...               1   \n",
      "57473  [\"Sure! Here's an implementation of a naive Ba...               1   \n",
      "57474  [\"It depends on the context. Weapons can be us...               1   \n",
      "57475  [\"As an AI language model, I do not promote or...               0   \n",
      "57476  [\"If three kids eat three apples in three days...               1   \n",
      "\n",
      "       winner_model_b  winner_tie  \n",
      "0                   0           0  \n",
      "1                   1           0  \n",
      "2                   0           1  \n",
      "3                   0           0  \n",
      "4                   1           0  \n",
      "...               ...         ...  \n",
      "57472               0           0  \n",
      "57473               0           0  \n",
      "57474               0           0  \n",
      "57475               1           0  \n",
      "57476               0           0  \n",
      "\n",
      "[57477 rows x 9 columns]\n"
     ]
    }
   ],
   "source": [
    "print(df_totest)"
   ]
  },
  {
   "cell_type": "code",
   "execution_count": 44,
   "id": "10bb83f1",
   "metadata": {},
   "outputs": [],
   "source": [
    "#Preprocessing the data\n",
    "\n",
    "def preprocess_text(text):\n",
    "    # Convert to lowercase\n",
    "    text = text.lower()\n",
    "    \n",
    "    # Remove punctuation\n",
    "    text = text.translate(str.maketrans('', '', string.punctuation))\n",
    "    \n",
    "    # Tokenize\n",
    "    tokens = word_tokenize(text)\n",
    "    \n",
    "    # Remove stop words\n",
    "    stop_words = set(stopwords.words('english'))\n",
    "    tokens = [word for word in tokens if word not in stop_words]\n",
    "    \n",
    "    # Stemming\n",
    "    stemmer = PorterStemmer()\n",
    "    tokens = [stemmer.stem(word) for word in tokens]\n",
    "\n",
    "    return ' '.join(tokens)    \n",
    "\n",
    "df_totest['prompt'] = df_totest['prompt'].apply(preprocess_text)\n",
    "df_totest['response_a'] = df_totest['response_a'].apply(preprocess_text)\n",
    "df_totest['response_b'] = df_totest['response_b'].apply(preprocess_text)\n",
    "df_totest['model_a'] = df_totest['model_a'].apply(preprocess_text)\n",
    "df_totest['model_b'] = df_totest['model_b'].apply(preprocess_text)"
   ]
  },
  {
   "cell_type": "code",
   "execution_count": 45,
   "id": "dff174f2",
   "metadata": {},
   "outputs": [],
   "source": [
    "# Initialize the tokenizer for prompts\n",
    "\n",
    "df_totest['prompt'] = df_totest['prompt'].astype(str)\n",
    "tokenizer_prompt = Tokenizer()\n",
    "\n",
    "# Fit the tokenizer on your texts\n",
    "tokenizer_prompt.fit_on_texts(df_totest['prompt'].values)\n",
    "\n",
    "# Convert texts to sequences of integers\n",
    "df_totest['prompt'] = tokenizer_prompt.texts_to_sequences(df_totest['prompt'].values)"
   ]
  },
  {
   "cell_type": "code",
   "execution_count": 46,
   "id": "211ecd18",
   "metadata": {},
   "outputs": [],
   "source": [
    "# Initialize the tokenizer for response_a\n",
    "\n",
    "df_totest['response_a'] = df_totest['response_a'].astype(str)\n",
    "tokenizer_a = Tokenizer()\n",
    "\n",
    "# Fit the tokenizer on your texts\n",
    "tokenizer_a.fit_on_texts(df_totest['response_a'].values)\n",
    "\n",
    "# Convert texts to sequences of integers\n",
    "df_totest['response_a'] = tokenizer_a.texts_to_sequences(df_totest['response_a'].values)\n"
   ]
  },
  {
   "cell_type": "code",
   "execution_count": 47,
   "id": "951cf264",
   "metadata": {},
   "outputs": [],
   "source": [
    "# Initialize the tokenizer for response_b\n",
    "\n",
    "df_totest['response_b'] = df_totest['response_b'].astype(str)\n",
    "tokenizer_b = Tokenizer()\n",
    "\n",
    "# Fit the tokenizer on your texts\n",
    "tokenizer_b.fit_on_texts(df_totest['response_b'].values)\n",
    "\n",
    "# Convert texts to sequences of integers\n",
    "df_totest['response_b'] = tokenizer_b.texts_to_sequences(df_totest['response_b'].values)\n"
   ]
  },
  {
   "cell_type": "code",
   "execution_count": 48,
   "id": "fa99f779",
   "metadata": {},
   "outputs": [],
   "source": [
    "#Initialize the tokenizer for model_a\n",
    "\n",
    "\n",
    "df_totest['model_a'] = df_totest['model_a'].astype(str)\n",
    "tokenizer_b = Tokenizer()\n",
    "\n",
    " #Fit the tokenizer on your texts\n",
    "tokenizer_b.fit_on_texts(df_totest['model_a'].values)\n",
    "\n",
    "# Convert texts to sequences of integers\n",
    "df_totest['model_a'] = tokenizer_b.texts_to_sequences(df_totest['model_a'].values)\n"
   ]
  },
  {
   "cell_type": "code",
   "execution_count": 49,
   "id": "1c1d100a",
   "metadata": {},
   "outputs": [],
   "source": [
    "# Initialize the tokenizer for model_b\n",
    "\n",
    "df_totest['model_b'] = df_totest['model_b'].astype(str)\n",
    "tokenizer_b = Tokenizer()\n",
    "\n",
    "# Fit the tokenizer on your texts\n",
    "tokenizer_b.fit_on_texts(df_totest['model_b'].values)\n",
    "\n",
    "# Convert texts to sequences of integers\n",
    "df_totest['model_b'] = tokenizer_b.texts_to_sequences(df_totest['model_b'].values)"
   ]
  },
  {
   "cell_type": "code",
   "execution_count": 50,
   "id": "5a7de180",
   "metadata": {},
   "outputs": [
    {
     "name": "stdout",
     "output_type": "stream",
     "text": [
      "[<class 'list'>]\n",
      "[<class 'list'>]\n"
     ]
    }
   ],
   "source": [
    "# Inspect the data to identify non-iterable values\n",
    "print(df_totest['prompt'].apply(lambda x: type(x)).unique())  # Check types in 'prompt' column\n",
    "print(df_totest['response_a'].apply(lambda x: type(x)).unique())  # Check types in 'response_a' column\n",
    "\n",
    "# Ensure that all elements are lists, converting single integers if necessary\n",
    "\n",
    "df_totest['prompt'] = df_totest['prompt'].apply(lambda x: [x] if isinstance(x, int) else x)\n",
    "df_totest['response_a'] = df_totest['response_a'].apply(lambda x: [x] if isinstance(x, int) else x)"
   ]
  },
  {
   "cell_type": "code",
   "execution_count": 51,
   "id": "9120f2b7",
   "metadata": {},
   "outputs": [],
   "source": [
    "# Define the maximum length of sequences (you can adjust this as needed)\n",
    "max_sequence_length = 250\n",
    "\n",
    "# Pad sequences to ensure consistent input size\n",
    "\n",
    "df_totest['prompt'] = pad_sequences(df_totest['prompt'].values, maxlen=max_sequence_length)\n",
    "df_totest['response_a'] = pad_sequences(df_totest['response_a'].values, maxlen=max_sequence_length)\n",
    "df_totest['response_b'] = pad_sequences(df_totest['response_b'].values, maxlen=max_sequence_length)\n",
    "df_totest['model_a'] = pad_sequences(df_totest['model_a'].values, maxlen=max_sequence_length)\n",
    "df_totest['model_b'] = pad_sequences(df_totest['model_b'].values, maxlen=max_sequence_length)\n",
    "\n",
    "#For models like Random Forest: After padding, the sequences are ready to be used as feature vectors directly."
   ]
  },
  {
   "cell_type": "code",
   "execution_count": 52,
   "id": "3c23e7f2",
   "metadata": {},
   "outputs": [
    {
     "name": "stdout",
     "output_type": "stream",
     "text": [
      "Shape of X_totest: (57477, 5)\n"
     ]
    }
   ],
   "source": [
    "# Convert features to numpy arrays and ensure proper shape\n",
    "X_prompt_totest = np.array(df_totest['prompt'].tolist()).reshape(-1, 1)\n",
    "X_response_a_totest = np.array(df_totest['response_a'].tolist()).reshape(-1, 1)\n",
    "X_response_b_totest = np.array(df_totest['response_b'].tolist()).reshape(-1, 1)\n",
    "X_model_a_totest = np.array(df_totest['model_a'].tolist()).reshape(-1, 1)\n",
    "X_model_b_totest = np.array(df_totest['model_b'].tolist()).reshape(-1, 1)\n",
    "\n",
    "# Combine all feature arrays horizontally\n",
    "X_totest= np.hstack([X_prompt_totest, X_response_a_totest, X_response_b_totest, X_model_a_totest, X_model_b_totest])\n",
    "\n",
    "# Check the shape of X\n",
    "print(f\"Shape of X_totest: {X_totest.shape}\")\n"
   ]
  },
  {
   "cell_type": "code",
   "execution_count": 53,
   "id": "efd4a390",
   "metadata": {},
   "outputs": [
    {
     "name": "stdout",
     "output_type": "stream",
     "text": [
      "[2 4 4 ... 2 4 4]\n"
     ]
    }
   ],
   "source": [
    "y_result_unseenData = model.predict(X_totest)\n",
    "print(y_result_unseenData )"
   ]
  }
 ],
 "metadata": {
  "kernelspec": {
   "display_name": "Python 3",
   "language": "python",
   "name": "python3"
  },
  "language_info": {
   "codemirror_mode": {
    "name": "ipython",
    "version": 3
   },
   "file_extension": ".py",
   "mimetype": "text/x-python",
   "name": "python",
   "nbconvert_exporter": "python",
   "pygments_lexer": "ipython3",
   "version": "3.12.2"
  }
 },
 "nbformat": 4,
 "nbformat_minor": 5
}
